{
  "nbformat": 4,
  "nbformat_minor": 0,
  "metadata": {
    "colab": {
      "name": "RandomReview.ipynb",
      "provenance": [],
      "collapsed_sections": [],
      "include_colab_link": true
    },
    "kernelspec": {
      "name": "python3",
      "display_name": "Python 3"
    },
    "accelerator": "GPU"
  },
  "cells": [
    {
      "cell_type": "markdown",
      "metadata": {
        "id": "view-in-github",
        "colab_type": "text"
      },
      "source": [
        "<a href=\"https://colab.research.google.com/github/adsamaz/Chattbot/blob/master/RandomReview.ipynb\" target=\"_parent\"><img src=\"https://colab.research.google.com/assets/colab-badge.svg\" alt=\"Open In Colab\"/></a>"
      ]
    },
    {
      "cell_type": "code",
      "metadata": {
        "id": "y5JEmmRx6Oju",
        "colab_type": "code",
        "outputId": "8c01ede2-affa-4ffd-ad72-d089db45d712",
        "colab": {
          "base_uri": "https://localhost:8080/",
          "height": 82
        }
      },
      "source": [
        "import torch\n",
        "import torch.nn as nn\n",
        "import torch.optim as optim\n",
        "import torch.nn.functional as F\n",
        "from torch.utils.data import TensorDataset, DataLoader\n",
        "import numpy as np\n",
        "from matplotlib import pyplot as plt\n",
        "import pandas as pd\n",
        "from sklearn.model_selection import train_test_split\n",
        "from sklearn.feature_extraction.text import TfidfVectorizer\n",
        "import nltk\n",
        "from nltk.corpus import stopwords\n",
        "from nltk import word_tokenize\n",
        "nltk.download('punkt')\n",
        "nltk.download('stopwords')\n",
        "from sklearn.metrics import accuracy_score, confusion_matrix, precision_score, recall_score, classification_report\n",
        "from collections import Counter\n",
        "import random"
      ],
      "execution_count": 2,
      "outputs": [
        {
          "output_type": "stream",
          "text": [
            "[nltk_data] Downloading package punkt to /root/nltk_data...\n",
            "[nltk_data]   Unzipping tokenizers/punkt.zip.\n",
            "[nltk_data] Downloading package stopwords to /root/nltk_data...\n",
            "[nltk_data]   Unzipping corpora/stopwords.zip.\n"
          ],
          "name": "stdout"
        }
      ]
    },
    {
      "cell_type": "code",
      "metadata": {
        "id": "tkUGX0Og6Yw0",
        "colab_type": "code",
        "outputId": "aa3168bd-e06c-4620-dd65-3753ce39abdc",
        "colab": {
          "base_uri": "https://localhost:8080/",
          "height": 118
        }
      },
      "source": [
        "from google.colab import drive\n",
        "drive.mount('/content/drive')"
      ],
      "execution_count": 3,
      "outputs": [
        {
          "output_type": "stream",
          "text": [
            "Go to this URL in a browser: https://accounts.google.com/o/oauth2/auth?client_id=947318989803-6bn6qk8qdgf4n4g3pfee6491hc0brc4i.apps.googleusercontent.com&redirect_uri=urn%3aietf%3awg%3aoauth%3a2.0%3aoob&response_type=code&scope=email%20https%3a%2f%2fwww.googleapis.com%2fauth%2fdocs.test%20https%3a%2f%2fwww.googleapis.com%2fauth%2fdrive%20https%3a%2f%2fwww.googleapis.com%2fauth%2fdrive.photos.readonly%20https%3a%2f%2fwww.googleapis.com%2fauth%2fpeopleapi.readonly\n",
            "\n",
            "Enter your authorization code:\n",
            "··········\n",
            "Mounted at /content/drive\n"
          ],
          "name": "stdout"
        }
      ]
    },
    {
      "cell_type": "code",
      "metadata": {
        "id": "Z2EGAhBFoG3p",
        "colab_type": "code",
        "colab": {}
      },
      "source": [
        "def preprocess_pandas(data, columns):\n",
        "    df_ = pd.DataFrame(columns=columns)\n",
        "    data['Sentence'] = data['Sentence'].str.lower()\n",
        "    data['Sentence'] = data['Sentence'].replace('[a-zA-Z0-9-_.]+@[a-zA-Z0-9-_.]+', '', regex=True)                      # remove emails\n",
        "    data['Sentence'] = data['Sentence'].replace('((25[0-5]|2[0-4][0-9]|[01]?[0-9][0-9]?)(\\.|$)){4}', '', regex=True)    # remove IP address\n",
        "    data['Sentence'] = data['Sentence'].str.replace('[^\\w\\s]','')                                                       # remove special characters\n",
        "    data['Sentence'] = data['Sentence'].replace('\\d', '', regex=True)                                                   # remove numbers\n",
        "    for index, row in data.iterrows():\n",
        "        word_tokens = word_tokenize(row['Sentence'])\n",
        "        filtered_sent = [w for w in word_tokens if not w in stopwords.words('english')]\n",
        "        df_ = df_.append({\n",
        "            \"index\": row['index'],\n",
        "            \"Class\": row['Class'],\n",
        "            \"Sentence\": \" \".join(filtered_sent[0:])\n",
        "        }, ignore_index=True)\n",
        "    return data"
      ],
      "execution_count": 0,
      "outputs": []
    },
    {
      "cell_type": "code",
      "metadata": {
        "id": "-gkpYOp3oCTK",
        "colab_type": "code",
        "outputId": "b410e399-3a27-48ce-f7da-d7c705420cd0",
        "colab": {
          "base_uri": "https://localhost:8080/",
          "height": 261
        }
      },
      "source": [
        "# If this is the primary file that is executed (ie not an import of another file)\n",
        "if __name__ == \"__main__\":\n",
        "    # get data, pre-process and split\n",
        "    data = pd.read_csv(\"https://raw.githubusercontent.com/adsamaz/Chattbot/master/ANN_project_files/amazon_cells_labelled.txt?token=AL267CS3JPVMWZZ453JJJBC56NPZO\", delimiter='\\t', header=None)\n",
        "    data.columns = ['Sentence', 'Class']\n",
        "    data['index'] = data.index                                          # add new column index\n",
        "    columns = ['index', 'Class', 'Sentence']\n",
        "    data = preprocess_pandas(data, columns)                             # pre-process\n",
        "    training_data, validation_data, training_labels, validation_labels = train_test_split( # split the data into training, validation, and test splits\n",
        "        data['Sentence'].values.astype('U'),\n",
        "        data['Class'].values.astype('int32'),\n",
        "        test_size=0.10,\n",
        "        random_state=0,\n",
        "        shuffle=True\n",
        "    )\n",
        "    print(training_data.shape)\n",
        "\n",
        "    # vectorize data using TFIDF and transform for PyTorch for scalability\n",
        "    word_vectorizer = TfidfVectorizer(analyzer='word', ngram_range=(1,2), max_features=50000, max_df=0.5, use_idf=True, norm='l2')\n",
        "    training_data = word_vectorizer.fit_transform(training_data)        # transform texts to sparse matrix\n",
        "    training_data = training_data.todense()                             # convert to dense matrix for Pytorch\n",
        "    vocab_size = len(word_vectorizer.vocabulary_)\n",
        "    validation_data = word_vectorizer.transform(validation_data)\n",
        "    validation_data = validation_data.todense()\n",
        "    train_x_tensor = torch.from_numpy(np.array(training_data)).type(torch.FloatTensor)\n",
        "    train_y_tensor = torch.from_numpy(np.array(training_labels)).long()\n",
        "    validation_x_tensor = torch.from_numpy(np.array(validation_data)).type(torch.FloatTensor)\n",
        "    validation_y_tensor = torch.from_numpy(np.array(validation_labels)).long()\n",
        "\n",
        "    data=data.get(['Sentence','Class'])\n",
        "    reviews = data.Sentence\n",
        "    labels = data.Class\n",
        "\n",
        "    print(data)"
      ],
      "execution_count": 5,
      "outputs": [
        {
          "output_type": "stream",
          "text": [
            "(900,)\n",
            "                                              Sentence  Class\n",
            "0    so there is no way for me to plug it in here i...      0\n",
            "1                            good case excellent value      1\n",
            "2                                great for the jawbone      1\n",
            "3    tied to charger for conversations lasting more...      0\n",
            "4                                     the mic is great      1\n",
            "..                                                 ...    ...\n",
            "995  the screen does get smudged easily because it ...      0\n",
            "996  what a piece of junk i lose more calls on this...      0\n",
            "997                        item does not match picture      0\n",
            "998  the only thing that disappoint me is the infra...      0\n",
            "999  you can not answer calls with the unit never w...      0\n",
            "\n",
            "[1000 rows x 2 columns]\n"
          ],
          "name": "stdout"
        }
      ]
    },
    {
      "cell_type": "code",
      "metadata": {
        "id": "oTbWM5jrF8aw",
        "colab_type": "code",
        "outputId": "41c14281-8dfb-4be9-ecb4-bc6665212f1f",
        "colab": {
          "base_uri": "https://localhost:8080/",
          "height": 553
        }
      },
      "source": [
        "import gzip\n",
        "\n",
        "def parse(path):\n",
        "  g = gzip.open(path, 'rb')\n",
        "  for l in g:\n",
        "    yield eval(l)\n",
        "\n",
        "def getDF(path):\n",
        "  i = 0\n",
        "  df = {}\n",
        "  for d in parse(path):\n",
        "    df[i] = d\n",
        "    i += 1\n",
        "  return pd.DataFrame.from_dict(df, orient='index')\n",
        "\n",
        "df = getDF('/content/drive/My Drive/Chatbot_shared/reviews_Video_Games_5.json.gz')\n",
        "df"
      ],
      "execution_count": 6,
      "outputs": [
        {
          "output_type": "execute_result",
          "data": {
            "text/html": [
              "<div>\n",
              "<style scoped>\n",
              "    .dataframe tbody tr th:only-of-type {\n",
              "        vertical-align: middle;\n",
              "    }\n",
              "\n",
              "    .dataframe tbody tr th {\n",
              "        vertical-align: top;\n",
              "    }\n",
              "\n",
              "    .dataframe thead th {\n",
              "        text-align: right;\n",
              "    }\n",
              "</style>\n",
              "<table border=\"1\" class=\"dataframe\">\n",
              "  <thead>\n",
              "    <tr style=\"text-align: right;\">\n",
              "      <th></th>\n",
              "      <th>reviewerID</th>\n",
              "      <th>asin</th>\n",
              "      <th>reviewerName</th>\n",
              "      <th>helpful</th>\n",
              "      <th>reviewText</th>\n",
              "      <th>overall</th>\n",
              "      <th>summary</th>\n",
              "      <th>unixReviewTime</th>\n",
              "      <th>reviewTime</th>\n",
              "    </tr>\n",
              "  </thead>\n",
              "  <tbody>\n",
              "    <tr>\n",
              "      <th>0</th>\n",
              "      <td>A2HD75EMZR8QLN</td>\n",
              "      <td>0700099867</td>\n",
              "      <td>123</td>\n",
              "      <td>[8, 12]</td>\n",
              "      <td>Installing the game was a struggle (because of...</td>\n",
              "      <td>1.0</td>\n",
              "      <td>Pay to unlock content? I don't think so.</td>\n",
              "      <td>1341792000</td>\n",
              "      <td>07 9, 2012</td>\n",
              "    </tr>\n",
              "    <tr>\n",
              "      <th>1</th>\n",
              "      <td>A3UR8NLLY1ZHCX</td>\n",
              "      <td>0700099867</td>\n",
              "      <td>Alejandro Henao \"Electronic Junky\"</td>\n",
              "      <td>[0, 0]</td>\n",
              "      <td>If you like rally cars get this game you will ...</td>\n",
              "      <td>4.0</td>\n",
              "      <td>Good rally game</td>\n",
              "      <td>1372550400</td>\n",
              "      <td>06 30, 2013</td>\n",
              "    </tr>\n",
              "    <tr>\n",
              "      <th>2</th>\n",
              "      <td>A1INA0F5CWW3J4</td>\n",
              "      <td>0700099867</td>\n",
              "      <td>Amazon Shopper \"Mr.Repsol\"</td>\n",
              "      <td>[0, 0]</td>\n",
              "      <td>1st shipment received a book instead of the ga...</td>\n",
              "      <td>1.0</td>\n",
              "      <td>Wrong key</td>\n",
              "      <td>1403913600</td>\n",
              "      <td>06 28, 2014</td>\n",
              "    </tr>\n",
              "    <tr>\n",
              "      <th>3</th>\n",
              "      <td>A1DLMTOTHQ4AST</td>\n",
              "      <td>0700099867</td>\n",
              "      <td>ampgreen</td>\n",
              "      <td>[7, 10]</td>\n",
              "      <td>I got this version instead of the PS3 version,...</td>\n",
              "      <td>3.0</td>\n",
              "      <td>awesome game, if it did not crash frequently !!</td>\n",
              "      <td>1315958400</td>\n",
              "      <td>09 14, 2011</td>\n",
              "    </tr>\n",
              "    <tr>\n",
              "      <th>4</th>\n",
              "      <td>A361M14PU2GUEG</td>\n",
              "      <td>0700099867</td>\n",
              "      <td>Angry Ryan \"Ryan A. Forrest\"</td>\n",
              "      <td>[2, 2]</td>\n",
              "      <td>I had Dirt 2 on Xbox 360 and it was an okay ga...</td>\n",
              "      <td>4.0</td>\n",
              "      <td>DIRT 3</td>\n",
              "      <td>1308009600</td>\n",
              "      <td>06 14, 2011</td>\n",
              "    </tr>\n",
              "    <tr>\n",
              "      <th>...</th>\n",
              "      <td>...</td>\n",
              "      <td>...</td>\n",
              "      <td>...</td>\n",
              "      <td>...</td>\n",
              "      <td>...</td>\n",
              "      <td>...</td>\n",
              "      <td>...</td>\n",
              "      <td>...</td>\n",
              "      <td>...</td>\n",
              "    </tr>\n",
              "    <tr>\n",
              "      <th>231775</th>\n",
              "      <td>A1ICREREXO9J81</td>\n",
              "      <td>B00KHECZXO</td>\n",
              "      <td>Frustrated gamer</td>\n",
              "      <td>[0, 1]</td>\n",
              "      <td>Funny people on here are rating sellers that a...</td>\n",
              "      <td>5.0</td>\n",
              "      <td>this is for rating the system not the seller</td>\n",
              "      <td>1405814400</td>\n",
              "      <td>07 20, 2014</td>\n",
              "    </tr>\n",
              "    <tr>\n",
              "      <th>231776</th>\n",
              "      <td>A3VVMIMMTYQV5F</td>\n",
              "      <td>B00KHECZXO</td>\n",
              "      <td>Johnny Saigon</td>\n",
              "      <td>[8, 11]</td>\n",
              "      <td>All this is is the Deluxe 32GB Wii U with Mari...</td>\n",
              "      <td>1.0</td>\n",
              "      <td>Get the Other Bundle Which Includes Extra Whee...</td>\n",
              "      <td>1403308800</td>\n",
              "      <td>06 21, 2014</td>\n",
              "    </tr>\n",
              "    <tr>\n",
              "      <th>231777</th>\n",
              "      <td>A1DD4B97M4DUC5</td>\n",
              "      <td>B00KHECZXO</td>\n",
              "      <td>migit</td>\n",
              "      <td>[62, 66]</td>\n",
              "      <td>The package should have more red on it and sho...</td>\n",
              "      <td>1.0</td>\n",
              "      <td>Fake bundle</td>\n",
              "      <td>1401321600</td>\n",
              "      <td>05 29, 2014</td>\n",
              "    </tr>\n",
              "    <tr>\n",
              "      <th>231778</th>\n",
              "      <td>A2Q9CNJ4T6ZK99</td>\n",
              "      <td>B00KHECZXO</td>\n",
              "      <td>Philip Brown \"Philip &amp; Chana\"</td>\n",
              "      <td>[33, 36]</td>\n",
              "      <td>Can get this at Newegg for $329.00 and the pac...</td>\n",
              "      <td>1.0</td>\n",
              "      <td>Looks Like We Have Gougers Again.</td>\n",
              "      <td>1401667200</td>\n",
              "      <td>06 2, 2014</td>\n",
              "    </tr>\n",
              "    <tr>\n",
              "      <th>231779</th>\n",
              "      <td>A27CD59R5U58GG</td>\n",
              "      <td>B00KHECZXO</td>\n",
              "      <td>ThommyGunn</td>\n",
              "      <td>[23, 28]</td>\n",
              "      <td>This is not real, you can go to ANY retail sto...</td>\n",
              "      <td>1.0</td>\n",
              "      <td>DO NOT BUY HERE LOOKS TO BE EUROPEAN VERSION</td>\n",
              "      <td>1401840000</td>\n",
              "      <td>06 4, 2014</td>\n",
              "    </tr>\n",
              "  </tbody>\n",
              "</table>\n",
              "<p>231780 rows × 9 columns</p>\n",
              "</div>"
            ],
            "text/plain": [
              "            reviewerID        asin  ... unixReviewTime   reviewTime\n",
              "0       A2HD75EMZR8QLN  0700099867  ...     1341792000   07 9, 2012\n",
              "1       A3UR8NLLY1ZHCX  0700099867  ...     1372550400  06 30, 2013\n",
              "2       A1INA0F5CWW3J4  0700099867  ...     1403913600  06 28, 2014\n",
              "3       A1DLMTOTHQ4AST  0700099867  ...     1315958400  09 14, 2011\n",
              "4       A361M14PU2GUEG  0700099867  ...     1308009600  06 14, 2011\n",
              "...                ...         ...  ...            ...          ...\n",
              "231775  A1ICREREXO9J81  B00KHECZXO  ...     1405814400  07 20, 2014\n",
              "231776  A3VVMIMMTYQV5F  B00KHECZXO  ...     1403308800  06 21, 2014\n",
              "231777  A1DD4B97M4DUC5  B00KHECZXO  ...     1401321600  05 29, 2014\n",
              "231778  A2Q9CNJ4T6ZK99  B00KHECZXO  ...     1401667200   06 2, 2014\n",
              "231779  A27CD59R5U58GG  B00KHECZXO  ...     1401840000   06 4, 2014\n",
              "\n",
              "[231780 rows x 9 columns]"
            ]
          },
          "metadata": {
            "tags": []
          },
          "execution_count": 6
        }
      ]
    },
    {
      "cell_type": "code",
      "metadata": {
        "id": "U2a_lRBOIQQp",
        "colab_type": "code",
        "outputId": "9f873f82-a58b-46aa-c201-c3a01255e84c",
        "colab": {
          "base_uri": "https://localhost:8080/",
          "height": 407
        }
      },
      "source": [
        "#Removes everything in except the review and overall score. Then removes\n",
        "# all reviews with an score of 3 beacuse of them being natrual when we set all\n",
        "#score under 3 to 0(negative) and score over 3 to 1(positive)\n",
        "#df=data\n",
        "df=df.get(['reviewText','overall'])\n",
        "df=df[df.overall != 3.0] \n",
        "df=df.replace(1.0, 0)\n",
        "df=df.replace(2.0, 0)\n",
        "df=df.replace(4.0, 1)\n",
        "df=df.replace(5.0, 1)\n",
        "\n",
        "df = df[df['reviewText'].str.split().str.len().lt(100)]\n",
        "reviews = df.reviewText\n",
        "print(len(df['reviewText']))\n",
        "\n",
        "df"
      ],
      "execution_count": 7,
      "outputs": [
        {
          "output_type": "stream",
          "text": [
            "100177\n"
          ],
          "name": "stdout"
        },
        {
          "output_type": "execute_result",
          "data": {
            "text/html": [
              "<div>\n",
              "<style scoped>\n",
              "    .dataframe tbody tr th:only-of-type {\n",
              "        vertical-align: middle;\n",
              "    }\n",
              "\n",
              "    .dataframe tbody tr th {\n",
              "        vertical-align: top;\n",
              "    }\n",
              "\n",
              "    .dataframe thead th {\n",
              "        text-align: right;\n",
              "    }\n",
              "</style>\n",
              "<table border=\"1\" class=\"dataframe\">\n",
              "  <thead>\n",
              "    <tr style=\"text-align: right;\">\n",
              "      <th></th>\n",
              "      <th>reviewText</th>\n",
              "      <th>overall</th>\n",
              "    </tr>\n",
              "  </thead>\n",
              "  <tbody>\n",
              "    <tr>\n",
              "      <th>1</th>\n",
              "      <td>If you like rally cars get this game you will ...</td>\n",
              "      <td>1.0</td>\n",
              "    </tr>\n",
              "    <tr>\n",
              "      <th>2</th>\n",
              "      <td>1st shipment received a book instead of the ga...</td>\n",
              "      <td>0.0</td>\n",
              "    </tr>\n",
              "    <tr>\n",
              "      <th>4</th>\n",
              "      <td>I had Dirt 2 on Xbox 360 and it was an okay ga...</td>\n",
              "      <td>1.0</td>\n",
              "    </tr>\n",
              "    <tr>\n",
              "      <th>6</th>\n",
              "      <td>Loved playing Dirt 2 and I thought the graphic...</td>\n",
              "      <td>1.0</td>\n",
              "    </tr>\n",
              "    <tr>\n",
              "      <th>8</th>\n",
              "      <td>I initially gave this one star because it was ...</td>\n",
              "      <td>1.0</td>\n",
              "    </tr>\n",
              "    <tr>\n",
              "      <th>...</th>\n",
              "      <td>...</td>\n",
              "      <td>...</td>\n",
              "    </tr>\n",
              "    <tr>\n",
              "      <th>231774</th>\n",
              "      <td>The real Mario Kart 8 Wii U bundle is a red bo...</td>\n",
              "      <td>0.0</td>\n",
              "    </tr>\n",
              "    <tr>\n",
              "      <th>231775</th>\n",
              "      <td>Funny people on here are rating sellers that a...</td>\n",
              "      <td>1.0</td>\n",
              "    </tr>\n",
              "    <tr>\n",
              "      <th>231776</th>\n",
              "      <td>All this is is the Deluxe 32GB Wii U with Mari...</td>\n",
              "      <td>0.0</td>\n",
              "    </tr>\n",
              "    <tr>\n",
              "      <th>231777</th>\n",
              "      <td>The package should have more red on it and sho...</td>\n",
              "      <td>0.0</td>\n",
              "    </tr>\n",
              "    <tr>\n",
              "      <th>231778</th>\n",
              "      <td>Can get this at Newegg for $329.00 and the pac...</td>\n",
              "      <td>0.0</td>\n",
              "    </tr>\n",
              "  </tbody>\n",
              "</table>\n",
              "<p>100177 rows × 2 columns</p>\n",
              "</div>"
            ],
            "text/plain": [
              "                                               reviewText  overall\n",
              "1       If you like rally cars get this game you will ...      1.0\n",
              "2       1st shipment received a book instead of the ga...      0.0\n",
              "4       I had Dirt 2 on Xbox 360 and it was an okay ga...      1.0\n",
              "6       Loved playing Dirt 2 and I thought the graphic...      1.0\n",
              "8       I initially gave this one star because it was ...      1.0\n",
              "...                                                   ...      ...\n",
              "231774  The real Mario Kart 8 Wii U bundle is a red bo...      0.0\n",
              "231775  Funny people on here are rating sellers that a...      1.0\n",
              "231776  All this is is the Deluxe 32GB Wii U with Mari...      0.0\n",
              "231777  The package should have more red on it and sho...      0.0\n",
              "231778  Can get this at Newegg for $329.00 and the pac...      0.0\n",
              "\n",
              "[100177 rows x 2 columns]"
            ]
          },
          "metadata": {
            "tags": []
          },
          "execution_count": 7
        }
      ]
    },
    {
      "cell_type": "markdown",
      "metadata": {
        "id": "wZ0qHltt5nhu",
        "colab_type": "text"
      },
      "source": [
        "## Get a random review"
      ]
    },
    {
      "cell_type": "code",
      "metadata": {
        "id": "jRUJtmfS5wY4",
        "colab_type": "code",
        "outputId": "b42f98aa-14eb-4ce7-d440-0f3ff23c0474",
        "colab": {
          "base_uri": "https://localhost:8080/",
          "height": 33
        }
      },
      "source": [
        "index = random.randint(0, len(reviews))\n",
        "print(reviews[index])"
      ],
      "execution_count": 13,
      "outputs": [
        {
          "output_type": "stream",
          "text": [
            "but when i check voice mail at night the keypad backlight turns off a few seconds into the first message and then im lost\n"
          ],
          "name": "stdout"
        }
      ]
    }
  ]
}