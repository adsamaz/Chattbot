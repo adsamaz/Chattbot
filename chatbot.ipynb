{
  "nbformat": 4,
  "nbformat_minor": 0,
  "metadata": {
    "colab": {
      "name": "chatbot.ipynb",
      "provenance": [],
      "collapsed_sections": [],
      "include_colab_link": true
    },
    "kernelspec": {
      "name": "python3",
      "display_name": "Python 3"
    }
  },
  "cells": [
    {
      "cell_type": "markdown",
      "metadata": {
        "id": "view-in-github",
        "colab_type": "text"
      },
      "source": [
        "<a href=\"https://colab.research.google.com/github/adsamaz/Chattbot/blob/master/chatbot.ipynb\" target=\"_parent\"><img src=\"https://colab.research.google.com/assets/colab-badge.svg\" alt=\"Open In Colab\"/></a>"
      ]
    },
    {
      "cell_type": "code",
      "metadata": {
        "id": "y5JEmmRx6Oju",
        "colab_type": "code",
        "outputId": "7300032d-5109-4174-975c-9721a00d93a2",
        "colab": {
          "base_uri": "https://localhost:8080/",
          "height": 85
        }
      },
      "source": [
        "import torch\n",
        "import torch.nn as nn\n",
        "import torch.optim as optim\n",
        "import torch.nn.functional as F\n",
        "from torch.utils.data import TensorDataset, DataLoader\n",
        "import numpy as np\n",
        "from matplotlib import pyplot as plt\n",
        "import pandas as pd\n",
        "from sklearn.model_selection import train_test_split\n",
        "from sklearn.feature_extraction.text import TfidfVectorizer\n",
        "import nltk\n",
        "from nltk.corpus import stopwords\n",
        "from nltk import word_tokenize\n",
        "nltk.download('punkt')\n",
        "nltk.download('stopwords')\n",
        "from sklearn.metrics import accuracy_score, confusion_matrix, precision_score, recall_score, classification_report\n",
        "\n"
      ],
      "execution_count": 13,
      "outputs": [
        {
          "output_type": "stream",
          "text": [
            "[nltk_data] Downloading package punkt to /root/nltk_data...\n",
            "[nltk_data]   Package punkt is already up-to-date!\n",
            "[nltk_data] Downloading package stopwords to /root/nltk_data...\n",
            "[nltk_data]   Package stopwords is already up-to-date!\n"
          ],
          "name": "stdout"
        }
      ]
    },
    {
      "cell_type": "code",
      "metadata": {
        "id": "KUVS8yVq6cUJ",
        "colab_type": "code",
        "colab": {}
      },
      "source": [
        "def preprocess_pandas(data, columns):\n",
        "    df_ = pd.DataFrame(columns=columns)\n",
        "    data['Sentence'] = data['Sentence'].str.lower()\n",
        "    data['Sentence'] = data['Sentence'].replace('[a-zA-Z0-9-_.]+@[a-zA-Z0-9-_.]+', '', regex=True)                      # remove emails\n",
        "    data['Sentence'] = data['Sentence'].replace('((25[0-5]|2[0-4][0-9]|[01]?[0-9][0-9]?)(\\.|$)){4}', '', regex=True)    # remove IP address\n",
        "    data['Sentence'] = data['Sentence'].str.replace('[^\\w\\s]','')                                                       # remove special characters\n",
        "    data['Sentence'] = data['Sentence'].replace('\\d', '', regex=True)                                                   # remove numbers\n",
        "    for index, row in data.iterrows():\n",
        "        word_tokens = word_tokenize(row['Sentence'])\n",
        "        filtered_sent = [w for w in word_tokens if not w in stopwords.words('english')]\n",
        "        df_ = df_.append({\n",
        "            \"index\": row['index'],\n",
        "            \"Class\": row['Class'],\n",
        "            \"Sentence\": \" \".join(filtered_sent[0:])\n",
        "        }, ignore_index=True)\n",
        "    return data\n",
        "\n"
      ],
      "execution_count": 0,
      "outputs": []
    },
    {
      "cell_type": "code",
      "metadata": {
        "id": "I37SUr4T6fgU",
        "colab_type": "code",
        "colab": {}
      },
      "source": [
        "# If this is the primary file that is executed (ie not an import of another file)\n",
        "if __name__ == \"__main__\":\n",
        "    # get data, pre-process and split\n",
        "    data = pd.read_csv(\"https://raw.githubusercontent.com/adsamaz/Chattbot/master/ANN_project_files/amazon_cells_labelled.txt?token=AH6YBL7A3NJ4RA5LTSEYWC254TOFO\", delimiter='\\t', header=None)\n",
        "    data.columns = ['Sentence', 'Class']\n",
        "    data['index'] = data.index                                          # add new column index\n",
        "    columns = ['index', 'Class', 'Sentence']\n",
        "    data = preprocess_pandas(data, columns)                             # pre-process\n",
        "    training_data, validation_data, training_labels, validation_labels = train_test_split( # split the data into training, validation, and test splits\n",
        "        data['Sentence'].values.astype('U'),\n",
        "        data['Class'].values.astype('int32'),\n",
        "        test_size=0.10,\n",
        "        random_state=0,\n",
        "        shuffle=True\n",
        "    )\n",
        "\n",
        "    # vectorize data using TFIDF and transform for PyTorch for scalability\n",
        "    word_vectorizer = TfidfVectorizer(analyzer='word', ngram_range=(1,2), max_features=50000, max_df=0.5, use_idf=True, norm='l2')\n",
        "    training_data = word_vectorizer.fit_transform(training_data)        # transform texts to sparse matrix\n",
        "    training_data = training_data.todense()                             # convert to dense matrix for Pytorch\n",
        "    vocab_size = len(word_vectorizer.vocabulary_)\n",
        "    validation_data = word_vectorizer.transform(validation_data)\n",
        "    validation_data = validation_data.todense()\n",
        "    train_x_tensor = torch.from_numpy(np.array(training_data)).type(torch.FloatTensor)\n",
        "    train_y_tensor = torch.from_numpy(np.array(training_labels)).long()\n",
        "    validation_x_tensor = torch.from_numpy(np.array(validation_data)).type(torch.FloatTensor)\n",
        "    validation_y_tensor = torch.from_numpy(np.array(validation_labels)).long()\n"
      ],
      "execution_count": 0,
      "outputs": []
    },
    {
      "cell_type": "code",
      "metadata": {
        "id": "7kBUOnXpraMD",
        "colab_type": "code",
        "outputId": "3cf42c2c-e718-444c-b7b9-da2ecada8ea5",
        "colab": {
          "base_uri": "https://localhost:8080/",
          "height": 136
        }
      },
      "source": [
        "# This code initializes the neural network\n",
        "network = nn.Sequential(\n",
        "    nn.Linear(7305, 500), nn.ReLU(), nn.Linear(500, 2)\n",
        ")\n",
        "\n",
        "# Initialize the optimizer\n",
        "optimizer = optim.Adam(network.parameters(), lr=0.01)\n",
        "\n",
        "# Initialize the loss function\n",
        "loss_function = nn.MSELoss()\n",
        "\n",
        "# An Embedding layer used for turning int into one-hot (0 -> [1,0,0,0,0,0,0,0,0,0], 5 -> [0,0,0,0,0,1,0,0,0,0])\n",
        "to_onehot = nn.Embedding(2, 2) \n",
        "to_onehot.weight.data = torch.eye(2)\n",
        "\n",
        "to_onehot(train_y_tensor)"
      ],
      "execution_count": 24,
      "outputs": [
        {
          "output_type": "execute_result",
          "data": {
            "text/plain": [
              "tensor([[1., 0.],\n",
              "        [0., 1.],\n",
              "        [1., 0.],\n",
              "        ...,\n",
              "        [0., 1.],\n",
              "        [1., 0.],\n",
              "        [1., 0.]], grad_fn=<EmbeddingBackward>)"
            ]
          },
          "metadata": {
            "tags": []
          },
          "execution_count": 24
        }
      ]
    },
    {
      "cell_type": "code",
      "metadata": {
        "id": "lz8ptNeM6qWM",
        "colab_type": "code",
        "outputId": "cf553492-d2d0-46df-d59b-d399b65f387c",
        "colab": {
          "base_uri": "https://localhost:8080/",
          "height": 559
        }
      },
      "source": [
        "# Decide the number of epochs to train for (one epoch is one complete run-through of the data)\n",
        "epochs = 30\n",
        "\n",
        "\n",
        "# Create a list to keep track of how the loss changes\n",
        "losses = []\n",
        "validation_epoch_losses = []\n",
        "accuracy = [0]\n",
        "# For each epoch\n",
        "for epoch in range(epochs):\n",
        "\n",
        "    # A variable for containing the sum of all batch losses for this epoch\n",
        "    epoch_loss = 0\n",
        "    validation_epoch_loss = 0\n",
        "\n",
        "    # For each batch\n",
        "    #for batch_nr, (images, labels) in enumerate(train_loader):\n",
        "\n",
        "    # Extract the labels and turn them into one-hot representation (note: not all loss functions needs this)\n",
        "    labels = to_onehot(train_y_tensor)\n",
        "\n",
        "    # Predict for each digit in the batch whatclass they belong to\n",
        "    prediction = network(train_x_tensor)\n",
        "\n",
        "    # Calculate the loss of the prediction by comparing to the expected output\n",
        "    loss = loss_function(prediction, labels)\n",
        "\n",
        "    # Backpropogate the loss through the network to find the gradients of all parameters\n",
        "    loss.backward()\n",
        "\n",
        "    # Update the parameters along their gradients\n",
        "    optimizer.step()\n",
        "\n",
        "    # Clear stored gradient values\n",
        "    optimizer.zero_grad()\n",
        "\n",
        "    # Add the loss to the total epoch loss (item() turns a PyTorch scalar into a normal Python datatype)\n",
        "    epoch_loss += loss.item()\n",
        "\n",
        "    # Print the epoch, batch, and loss\n",
        "    print(\n",
        "        '\\rEpoch {} - Loss: {}'.format(\n",
        "            epoch+1, loss\n",
        "        ),\n",
        "        end=''\n",
        "    )\n",
        "\n",
        "    # Append the epoch loss to the list of losses\n",
        "    #accu = validate_on_images(iter(validation_loader))\n",
        "    #accuracy.append(accu)\n",
        "    #print(\" Accuracy:\",accu)\n",
        "    losses.append(epoch_loss)\n",
        "\n",
        "  \n",
        "\n",
        "    #Check on validation\n",
        "\n",
        "    # Extract the labels and turn them into one-hot representation (note: not all loss functions needs this)\n",
        "    labels = to_onehot(validation_y_tensor)\n",
        "\n",
        "    # Predict for each digit in the batch whatclass they belong to\n",
        "    prediction = network(validation_x_tensor)\n",
        "    \n",
        "    # Calculate the loss of the prediction by comparing to the expected output\n",
        "    loss = loss_function(prediction, labels)\n",
        "      \n",
        "      \n",
        "      \n",
        "    validation_epoch_loss += loss.item()\n",
        "    validation_epoch_losses.append(validation_epoch_loss)   \n",
        "\n",
        "\n",
        "# Plot the training loss per epoch\n",
        "plt.plot(range(1, epochs+1), losses)\n",
        "plt.xlabel('Epochs')\n",
        "plt.ylabel('Loss')\n",
        "plt.show()\n",
        "\n",
        "plt.plot(range(1, epochs+1), validation_epoch_losses)\n",
        "plt.xlabel('Epochs')\n",
        "plt.ylabel('Accuracy')\n",
        "plt.show()\n",
        "\n",
        "# Have the trained network predict on some images\n",
        "#predict_on_images(iterator=iter(train_loader), images_to_show=10)"
      ],
      "execution_count": 25,
      "outputs": [
        {
          "output_type": "stream",
          "text": [
            "Epoch 30 - Loss: 0.003132733516395092"
          ],
          "name": "stdout"
        },
        {
          "output_type": "display_data",
          "data": {
            "image/png": "[encoded data removed]",
            "text/plain": [
              "<Figure size 432x288 with 1 Axes>"
            ]
          },
          "metadata": {
            "tags": []
          }
        },
        {
          "output_type": "display_data",
          "data": {
            "image/png": "[encoded data removed]",
            "text/plain": [
              "<Figure size 432x288 with 1 Axes>"
            ]
          },
          "metadata": {
            "tags": []
          }
        }
      ]
    },
    {
      "cell_type": "code",
      "metadata": {
        "id": "9oKXeSPs9lIh",
        "colab_type": "code",
        "outputId": "b900d247-4e73-452b-c3e7-dfe427210a5d",
        "colab": {
          "base_uri": "https://localhost:8080/",
          "height": 35
        }
      },
      "source": [
        "prediction.shape"
      ],
      "execution_count": 0,
      "outputs": [
        {
          "output_type": "execute_result",
          "data": {
            "text/plain": [
              "torch.Size([900, 2])"
            ]
          },
          "metadata": {
            "tags": []
          },
          "execution_count": 14
        }
      ]
    },
    {
      "cell_type": "code",
      "metadata": {
        "id": "N6hn690dwLcO",
        "colab_type": "code",
        "colab": {}
      },
      "source": [
        ""
      ],
      "execution_count": 0,
      "outputs": []
    }
  ]
}