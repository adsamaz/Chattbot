{
  "nbformat": 4,
  "nbformat_minor": 0,
  "metadata": {
    "colab": {
      "name": "chatbot.ipynb",
      "provenance": [],
      "collapsed_sections": [],
      "include_colab_link": true
    },
    "kernelspec": {
      "name": "python3",
      "display_name": "Python 3"
    },
    "accelerator": "GPU"
  },
  "cells": [
    {
      "cell_type": "markdown",
      "metadata": {
        "id": "view-in-github",
        "colab_type": "text"
      },
      "source": [
        "<a href=\"https://colab.research.google.com/github/adsamaz/Chattbot/blob/master/chatbot.ipynb\" target=\"_parent\"><img src=\"https://colab.research.google.com/assets/colab-badge.svg\" alt=\"Open In Colab\"/></a>"
      ]
    },
    {
      "cell_type": "markdown",
      "metadata": {
        "id": "dMT7LW55pKMs",
        "colab_type": "text"
      },
      "source": [
        "## Chatbot ETA\n",
        "In the course Neural networks and learning machines (D7046E) this sentimentanalys network was created. \n",
        "\n",
        "Made by:\n",
        "Ivar Rockström,\n",
        "Niklas Ulfvarson,\n",
        "Adam Sawert,\n",
        "Rebecka Mattsson and\n",
        "Niklas Dahlquist"
      ]
    },
    {
      "cell_type": "code",
      "metadata": {
        "id": "y5JEmmRx6Oju",
        "colab_type": "code",
        "outputId": "c42a9663-7bc8-4b26-f93d-bf331120df40",
        "colab": {
          "base_uri": "https://localhost:8080/",
          "height": 90
        }
      },
      "source": [
        "import torch\n",
        "import torch.nn as nn\n",
        "import torch.optim as optim\n",
        "import torch.nn.functional as F\n",
        "from torch.utils.data import TensorDataset, DataLoader\n",
        "import numpy as np\n",
        "from matplotlib import pyplot as plt\n",
        "import pandas as pd\n",
        "from sklearn.model_selection import train_test_split\n",
        "from sklearn.feature_extraction.text import TfidfVectorizer\n",
        "import nltk\n",
        "from nltk.corpus import stopwords\n",
        "from nltk import word_tokenize\n",
        "nltk.download('punkt')\n",
        "nltk.download('stopwords')\n",
        "from sklearn.metrics import accuracy_score, confusion_matrix, precision_score, recall_score, classification_report\n",
        "from collections import Counter\n",
        "\n"
      ],
      "execution_count": 0,
      "outputs": [
        {
          "output_type": "stream",
          "text": [
            "[nltk_data] Downloading package punkt to /root/nltk_data...\n",
            "[nltk_data]   Package punkt is already up-to-date!\n",
            "[nltk_data] Downloading package stopwords to /root/nltk_data...\n",
            "[nltk_data]   Package stopwords is already up-to-date!\n"
          ],
          "name": "stdout"
        }
      ]
    },
    {
      "cell_type": "markdown",
      "metadata": {
        "id": "8YbuOtucrOJ4",
        "colab_type": "text"
      },
      "source": [
        "Mounts a google drive folder which contains orginal databse with reviews from amazon. "
      ]
    },
    {
      "cell_type": "code",
      "metadata": {
        "id": "tkUGX0Og6Yw0",
        "colab_type": "code",
        "outputId": "2bfb79a9-1686-4dfa-c923-b62633f61675",
        "colab": {
          "base_uri": "https://localhost:8080/",
          "height": 35
        }
      },
      "source": [
        "from google.colab import drive\n",
        "drive.mount('/content/drive')"
      ],
      "execution_count": 0,
      "outputs": [
        {
          "output_type": "stream",
          "text": [
            "Drive already mounted at /content/drive; to attempt to forcibly remount, call drive.mount(\"/content/drive\", force_remount=True).\n"
          ],
          "name": "stdout"
        }
      ]
    },
    {
      "cell_type": "markdown",
      "metadata": {
        "id": "c0kj2Osbrceh",
        "colab_type": "text"
      },
      "source": [
        "Imports the database as datafram using the Pandas library. Our database contains around two hundred thousand reviews for different video games on amazon. All reviews are rated on the scale 1 to 5, where 5 is the most positive and 1 the most negative. \n",
        "\n",
        "The goal with our network is to classify if a text is postivt or negtive and not to have a scale from 1 to 5. Therefore we removed all reviews with a score of 3. The we set all reviews with a score of 1 and 2 as negative (score = 0). Reviews with a score of 4 or 5 where set to positive (score = 1).\n",
        "\n",
        "Then we clean all text from special charachters and numbers. We also removes all words that not appear more then 15 times in all reviews."
      ]
    },
    {
      "cell_type": "code",
      "metadata": {
        "id": "oTbWM5jrF8aw",
        "colab_type": "code",
        "colab": {}
      },
      "source": [
        "import gzip\n",
        "\n",
        "def parse(path):\n",
        "  g = gzip.open(path, 'rb')\n",
        "  for l in g:\n",
        "    yield eval(l)\n",
        "\n",
        "def getDF(path):\n",
        "  i = 0\n",
        "  df = {}\n",
        "  for d in parse(path):\n",
        "    df[i] = d\n",
        "    i += 1\n",
        "  return pd.DataFrame.from_dict(df, orient='index')\n",
        "\n",
        "df = getDF('/content/drive/My Drive/Chatbot_shared/reviews_Video_Games_5.json.gz')"
      ],
      "execution_count": 0,
      "outputs": []
    },
    {
      "cell_type": "code",
      "metadata": {
        "id": "U2a_lRBOIQQp",
        "colab_type": "code",
        "outputId": "9dd7dd4b-5b96-4fed-c2e9-6bdd90b9eb3d",
        "colab": {
          "base_uri": "https://localhost:8080/",
          "height": 54
        }
      },
      "source": [
        "#Removes everything in except the review and overall score. Then removes\n",
        "# all reviews with an score of 3 beacuse of them being natrual when we set all\n",
        "#score under 3 to 0(negative) and score over 3 to 1(positive)\n",
        "#df=data\n",
        "df=df.get(['reviewText','overall'])\n",
        "df=df[df.overall != 3.0] \n",
        "df=df.replace(1.0, 0)\n",
        "df=df.replace(2.0, 0)\n",
        "df=df.replace(4.0, 1)\n",
        "df=df.replace(5.0, 1)\n",
        "reviews = df.reviewText\n",
        "score = df.overall\n",
        "\n",
        "# Removes special characters, numberts etc\n",
        "reviews = reviews.str.lower()\n",
        "reviews = reviews.replace('[a-zA-Z0-9-_.]+@[a-zA-Z0-9-_.]+', '', regex=True)                      # remove emails\n",
        "reviews = reviews.replace('((25[0-5]|2[0-4][0-9]|[01]?[0-9][0-9]?)(\\.|$)){4}', '', regex=True)    # remove IP address\n",
        "reviews = reviews.str.replace('[^\\w\\s]','')                                                       # remove special characters\n",
        "reviews = reviews.replace('\\d', '', regex=True)                                                   # remove numbers\n",
        "\n",
        "#Tokenizer\n",
        "all_text = ' '.join(reviews)          # Makes on string of all texts.\n",
        "words = all_text.split()\n",
        "\n",
        "#Count all the words\n",
        "count_words = Counter(words)          # Creats a counter function\n",
        "\n",
        "# Sort words after which is most common\n",
        "total_words = len(words)\n",
        "sorted_words = count_words.most_common(total_words)\n",
        "\n",
        "#Creats a vocabulary where all word appearing less then 'minimum_word_count' are \n",
        "#removed.\n",
        "i=0\n",
        "minimum_word_count = 15\n",
        "vocab=[]\n",
        "for x in (sorted_words):\n",
        "  if x[1] > minimum_word_count:\n",
        "    vocab.append((x[0],x[1]))\n",
        "    i=i+1\n",
        "    \n",
        "vocab=sorted_words[0:i]\n",
        "\n",
        "print('Number of unique words after removing words appearing less then',minimum_word_count ,'is',len(vocab))\n",
        "print('Before removal there was',len(sorted_words),'unique words')"
      ],
      "execution_count": 0,
      "outputs": [
        {
          "output_type": "stream",
          "text": [
            "Number of unique words after removing words appearing less then 15 is 30329\n",
            "Before removal there was 484154 unique words\n"
          ],
          "name": "stdout"
        }
      ]
    },
    {
      "cell_type": "markdown",
      "metadata": {
        "id": "LklcTOWwB_C-",
        "colab_type": "text"
      },
      "source": [
        "After creating a vocabualry all words a converted in to a number. Then all words in the reviews are replaced with the number corresponding to the word. All words which isn't in the vocabulary are replaced with an emapty string."
      ]
    },
    {
      "cell_type": "code",
      "metadata": {
        "id": "eeWWoAA1aE9s",
        "colab_type": "code",
        "outputId": "a41c368b-092f-4205-ef46-f95ecd2dd7d2",
        "colab": {
          "base_uri": "https://localhost:8080/",
          "height": 74
        }
      },
      "source": [
        "# Creats a vocabulary where each number corresponds to a word.\n",
        "\n",
        "vocab_to_int = {w:i+1 for i, (w,c) in enumerate(vocab)}\n",
        "\n",
        "# Changes all word in reviews to interger values accoriding to vocab_to_int\n",
        "reviews_int = []\n",
        "for review in reviews:\n",
        "  r=[]\n",
        "  for w in review.split():\n",
        "    try:\n",
        "      r.append(vocab_to_int[w])\n",
        "    except:\n",
        "      continue\n",
        "  reviews_int.append(r)\n",
        "print (reviews_int[0:3])\n",
        "\n",
        "# Creats a array with all review scores. Is a review postive or negative\n",
        "encoded_labels = np.array(score)\n",
        "encoded_labels\n"
      ],
      "execution_count": 0,
      "outputs": [
        {
          "output_type": "stream",
          "text": [
            "[[3001, 1, 9, 23, 4, 3790, 77, 5, 29, 14, 1044, 443, 5063, 1029, 2, 471, 24, 59, 25, 1418, 70, 410, 73, 20, 48, 3075, 3, 1, 9, 8, 1199, 759, 1240, 53, 1, 9, 23, 74, 8, 69, 27, 1, 542, 13, 8, 19, 3, 214, 1658, 3, 214, 12807, 1108, 64, 1078, 12, 1, 1347, 32, 76, 641, 3, 2601, 8, 6039, 10, 12, 1, 2171, 2, 23122, 145, 3, 114, 188, 7835, 9, 103, 51, 1227, 5, 633, 383, 29, 960, 3, 36, 34, 1075, 41, 11281, 9341, 4383, 2, 7, 163, 3, 7, 14, 849, 34, 286, 28, 7, 405, 10, 25, 233, 3, 915, 10, 20, 1620], [28, 7, 27, 4383, 471, 36, 11, 9, 7, 43, 19, 14223, 6, 37, 3928, 3, 4789, 1080, 152, 192, 12, 2664, 39, 205, 4, 314, 4383, 223, 552, 208, 10, 6, 49, 4789, 2, 65, 1, 1435, 41, 1, 9, 49, 2289, 226, 205, 1, 89, 17, 10, 284, 35, 640], [1238, 10604, 1293, 4, 964, 299, 5, 1, 10604, 129, 4, 3653, 33, 9, 1961, 16, 4, 472, 896, 1056, 18, 6067, 594, 8, 129, 12, 3121, 16, 7835, 2, 1481, 73, 1964, 5, 1, 1440, 2, 1, 555, 42, 285, 254, 42, 24, 60, 22, 4, 3653, 10, 52, 7887]]\n"
          ],
          "name": "stdout"
        },
        {
          "output_type": "execute_result",
          "data": {
            "text/plain": [
              "array([0., 1., 0., ..., 0., 0., 0.])"
            ]
          },
          "metadata": {
            "tags": []
          },
          "execution_count": 41
        }
      ]
    },
    {
      "cell_type": "markdown",
      "metadata": {
        "id": "sIGYdlSbDJ8K",
        "colab_type": "text"
      },
      "source": [
        "Visualisation of how big each review is. Reviews containg more then 200 words are removed. If there are any reviews containg 0 words they are also removed."
      ]
    },
    {
      "cell_type": "code",
      "metadata": {
        "id": "DJ0fI6kwcecc",
        "colab_type": "code",
        "outputId": "01e6547f-feff-45f4-e81d-c45f8211a657",
        "colab": {
          "base_uri": "https://localhost:8080/",
          "height": 835
        }
      },
      "source": [
        "#Prints a visualisation of how many word there are in each review\n",
        "\n",
        "print('Number of reviews containg a specific number of words')\n",
        "reviews_len = [len(x) for x in reviews_int]\n",
        "pd.Series(reviews_len).hist()\n",
        "plt.xlabel('Number of words')\n",
        "plt.ylabel('Number of reviews')\n",
        "plt.show()\n",
        "print(pd.Series(reviews_len).describe())\n",
        "\n",
        "reviews_int = [ reviews_int[i] for i, l in enumerate(reviews_len) if (l>0 and l<200) ]\n",
        "encoded_labels = [ encoded_labels[i] for i, l in enumerate(reviews_len) if (l> 0 and l<200) ]\n",
        "\n",
        "#Prints a visualisation of how many word there are in each review after removal \n",
        "#of unwanted reviews. \n",
        "print('\\n')\n",
        "print('Number of reviews containg a specif number of words after removing all') \n",
        "print('reviews containg more then 200 words or 0 words.')\n",
        "\n",
        "reviews_len = [len(x) for x in reviews_int]\n",
        "pd.Series(reviews_len).hist()\n",
        "plt.xlabel('Number of words')\n",
        "plt.ylabel('Number of reviews')\n",
        "plt.show()\n",
        "pd.Series(reviews_len).describe()\n",
        "\n",
        "#Safe check to see that we have the same number of reviews as labels.\n",
        "\n",
        "\n",
        "print('Number of reviews left after removal are',len(reviews_int),'and the number of labels are',len(encoded_labels),'.')\n",
        "print('The numbers must be the same')\n"
      ],
      "execution_count": 0,
      "outputs": [
        {
          "output_type": "stream",
          "text": [
            "Number of reviews containg a specific number of words\n"
          ],
          "name": "stdout"
        },
        {
          "output_type": "display_data",
          "data": {
            "image/png": "[encoded data removed]",
            "text/plain": [
              "<Figure size 432x288 with 1 Axes>"
            ]
          },
          "metadata": {
            "tags": []
          }
        },
        {
          "output_type": "stream",
          "text": [
            "count    203505.000000\n",
            "mean        192.130483\n",
            "std         263.330118\n",
            "min           0.000000\n",
            "25%          42.000000\n",
            "50%          99.000000\n",
            "75%         232.000000\n",
            "max        5711.000000\n",
            "dtype: float64\n",
            "\n",
            "\n",
            "Number of reviews containg a specif number of words after removing all\n",
            "reviews containg more then 200 words or 0 words.\n"
          ],
          "name": "stdout"
        },
        {
          "output_type": "display_data",
          "data": {
            "image/png": "[encoded data removed]",
            "text/plain": [
              "<Figure size 432x288 with 1 Axes>"
            ]
          },
          "metadata": {
            "tags": []
          }
        },
        {
          "output_type": "stream",
          "text": [
            "Number of reviews left after removal are 144482 and the number of labels are 144482 .\n",
            "The numbers must be the same\n"
          ],
          "name": "stdout"
        }
      ]
    },
    {
      "cell_type": "markdown",
      "metadata": {
        "id": "aD2CroD2Hgeq",
        "colab_type": "text"
      },
      "source": [
        "In the next step all remaining reviews which are shorter then 200 word are \"zero-padded\" to a size of 200. By doing this all reviews have the same length."
      ]
    },
    {
      "cell_type": "code",
      "metadata": {
        "id": "yt5W47i_dzjV",
        "colab_type": "code",
        "outputId": "8f37d8b7-e76b-43bb-d037-6572448e9d61",
        "colab": {
          "base_uri": "https://localhost:8080/",
          "height": 439
        }
      },
      "source": [
        "# Fucntion which zero padds and shortens all reviews to seq_length\n",
        "\n",
        "def pad_features(reviews_int, seq_length):\n",
        "    ''' Return features of review_ints, where each review is padded with 0's or truncated to the input seq_length.\n",
        "    '''\n",
        "    features = np.zeros((len(reviews_int), seq_length), dtype = int)\n",
        "    \n",
        "    for i, review in enumerate(reviews_int):\n",
        "        review_len = len(review)\n",
        "        \n",
        "        if review_len <= seq_length:\n",
        "            zeroes = list(np.zeros(seq_length-review_len))\n",
        "            new = zeroes+review        \n",
        "        elif review_len > seq_length:\n",
        "            new = review[0:seq_length]\n",
        "        \n",
        "        features[i,:] = np.array(new)\n",
        "    \n",
        "    return features\n",
        "\n",
        "features = np.array(pad_features(reviews_int,200))\n",
        "features[10][:200]\n"
      ],
      "execution_count": 0,
      "outputs": [
        {
          "output_type": "execute_result",
          "data": {
            "text/plain": [
              "array([    0,     0,     0,     0,     0,     0,     0,     0,     0,\n",
              "           0,     0,     0,     0,     0,     0,     0,     0,     0,\n",
              "           0,     0,     0,     0,     0,     0,     0,     0,     0,\n",
              "           0,     0,     0,     0,     0,     0,     0,     0,     0,\n",
              "           0,     0,     0,     0,     0,     0,     0,     0,     0,\n",
              "           0,     0,     0,     0,     0,     0,     0,     0,     0,\n",
              "           0,     0,     0,     0,     0,     0,     0,     0,     0,\n",
              "           0,     0,     0,     0,     0,     0,     0,     0,     0,\n",
              "           0,     0,     0,     0,     0,     0,     0,     0,     0,\n",
              "           0,     0,     0,     0,     0,     0,     0,     0,     0,\n",
              "           0,     0,     0,     0,     0,     0,     0,     0,     0,\n",
              "           0,     0,     0,     0,     0,     0,     0,     0,     0,\n",
              "           0,     0,     0,     0,     0,     0,     0,     0,     0,\n",
              "           0,     0,     0,     0,     0,     0,     0,     0,     0,\n",
              "           0,     0,     0,     0,     0,     0,     0,     0,     0,\n",
              "           0,     0,     0,     0,     0,     0,     0,     0,     0,\n",
              "           0,     0,     0,     0,     0,     0,     0,     0,     0,\n",
              "           0,     0,     0,     0,     0,     0,     0,     0,     0,\n",
              "           0,     8,   221,    11,     2,     1,   896,   184,   207,\n",
              "          10,    23,     4,  1337,     2,     1, 16419,   408,   248,\n",
              "           3,  1252,     1,   288,    10,   265,    19,    85,     4,\n",
              "          52,     9,    17,     8,   145,   242,    44,    77,     1,\n",
              "         896,  2074])"
            ]
          },
          "metadata": {
            "tags": []
          },
          "execution_count": 43
        }
      ]
    },
    {
      "cell_type": "markdown",
      "metadata": {
        "id": "Aao-2iHrIEpD",
        "colab_type": "text"
      },
      "source": [
        "Creating of training, validation and test sets. Fifty procent of the data is split in a training set and the remaining fifty procent are split in half and saved in a validation set and a test set. "
      ]
    },
    {
      "cell_type": "code",
      "metadata": {
        "id": "yCFysaaOekaU",
        "colab_type": "code",
        "outputId": "a1ab188b-41f2-4514-8b2e-24c24e7eb86d",
        "colab": {
          "base_uri": "https://localhost:8080/",
          "height": 35
        }
      },
      "source": [
        "# Splitting data into training, validation and testing\n",
        "split_frac = 0.5\n",
        "len_feat=len(features)\n",
        "encoded_labels = np.array(encoded_labels)\n",
        "\n",
        "train_x = features[0:int(split_frac*len_feat)]\n",
        "train_y = encoded_labels[0:int(split_frac*len_feat)]\n",
        "remaining_x = features[int(split_frac*len_feat):]\n",
        "remaining_y = encoded_labels[int(split_frac*len_feat):]\n",
        "valid_x = remaining_x[0:int(len(remaining_x)*0.5)]\n",
        "valid_y = remaining_y[0:int(len(remaining_y)*0.5)]\n",
        "test_x = remaining_x[int(len(remaining_x)*0.5):]\n",
        "test_y = remaining_y[int(len(remaining_y)*0.5):]\n",
        "\n",
        "\n",
        "type(train_y)"
      ],
      "execution_count": 0,
      "outputs": [
        {
          "output_type": "execute_result",
          "data": {
            "text/plain": [
              "numpy.ndarray"
            ]
          },
          "metadata": {
            "tags": []
          },
          "execution_count": 44
        }
      ]
    },
    {
      "cell_type": "code",
      "metadata": {
        "id": "5IsHVEUofTLO",
        "colab_type": "code",
        "colab": {}
      },
      "source": [
        "import torch\n",
        "from torch.utils.data import DataLoader, TensorDataset\n",
        "\n",
        "# create Tensor datasets\n",
        "train_data = TensorDataset(torch.from_numpy(train_x), torch.from_numpy(train_y))\n",
        "valid_data = TensorDataset(torch.from_numpy(valid_x), torch.from_numpy(valid_y))\n",
        "test_data = TensorDataset(torch.from_numpy(test_x), torch.from_numpy(test_y))\n",
        "\n",
        "# dataloaders\n",
        "batch_size = 50\n",
        "\n",
        "# make sure to SHUFFLE your data. removes last incomplete batch\n",
        "train_loader = DataLoader(train_data, shuffle=True, batch_size=batch_size,drop_last=True)\n",
        "valid_loader = DataLoader(valid_data, shuffle=True, batch_size=batch_size,drop_last=True)\n",
        "test_loader = DataLoader(test_data, shuffle=True, batch_size=batch_size,drop_last=True)"
      ],
      "execution_count": 0,
      "outputs": []
    },
    {
      "cell_type": "code",
      "metadata": {
        "id": "dbvlbYutgkMn",
        "colab_type": "code",
        "outputId": "7c40f8bb-7aa0-4acb-96d5-a6af293caae4",
        "colab": {
          "base_uri": "https://localhost:8080/",
          "height": 311
        }
      },
      "source": [
        "# obtain one batch of training data\n",
        "dataiter = iter(train_loader)\n",
        "sample_x, sample_y = dataiter.next()\n",
        "print('Sample input size: ', sample_x.size()) \n",
        "# batch_size, seq_length\n",
        "print('Sample input: \\n', sample_x)\n",
        "print()\n",
        "print('Sample label size: ', sample_y.size()) \n",
        "# batch_size\n",
        "print('Sample label: \\n', sample_y)"
      ],
      "execution_count": 0,
      "outputs": [
        {
          "output_type": "stream",
          "text": [
            "Sample input size:  torch.Size([50, 200])\n",
            "Sample input: \n",
            " tensor([[   0,    0,    0,  ...,  104,   49,   52],\n",
            "        [   0,    0,    0,  ...,   27,   11,    9],\n",
            "        [   0,    0,    0,  ...,   18,  907, 3419],\n",
            "        ...,\n",
            "        [   0,    0,    0,  ...,    7,  157,   14],\n",
            "        [   0,    0,    0,  ..., 2317, 1823,  848],\n",
            "        [   0,    0,    0,  ..., 1485,   20, 1414]])\n",
            "\n",
            "Sample label size:  torch.Size([50])\n",
            "Sample label: \n",
            " tensor([1., 1., 0., 1., 1., 1., 1., 1., 1., 1., 1., 1., 1., 1., 1., 0., 1., 1.,\n",
            "        1., 1., 1., 1., 1., 1., 1., 1., 1., 1., 1., 1., 0., 1., 1., 0., 1., 1.,\n",
            "        1., 1., 1., 0., 1., 1., 1., 1., 1., 1., 0., 1., 1., 1.],\n",
            "       dtype=torch.float64)\n"
          ],
          "name": "stdout"
        }
      ]
    },
    {
      "cell_type": "code",
      "metadata": {
        "id": "EBGMs2sUVvxo",
        "colab_type": "code",
        "outputId": "867c596b-2bd5-4acc-94df-2c896b327b9c",
        "colab": {
          "base_uri": "https://localhost:8080/",
          "height": 35
        }
      },
      "source": [
        "# torch.cuda.is_available() checks and returns a Boolean True if a GPU is available, else it'll return False\n",
        "is_cuda = torch.cuda.is_available()\n",
        "\n",
        "# If we have a GPU available, we'll set our device to GPU. We'll use this device variable later in our code.\n",
        "if is_cuda:\n",
        "    device = torch.device(\"cuda\")\n",
        "else:\n",
        "    device = torch.device(\"cpu\")\n",
        "\n",
        "print(device)"
      ],
      "execution_count": 0,
      "outputs": [
        {
          "output_type": "stream",
          "text": [
            "cuda\n"
          ],
          "name": "stdout"
        }
      ]
    },
    {
      "cell_type": "code",
      "metadata": {
        "id": "wgX8FYVBPaJn",
        "colab_type": "code",
        "colab": {}
      },
      "source": [
        "\n",
        "\n",
        "class SentimentNet(nn.Module):\n",
        "    def __init__(self, vocab_size, output_size, embedding_dim, hidden_dim, n_layers, drop_prob):\n",
        "        super(SentimentNet, self).__init__()\n",
        "        self.output_size = output_size\n",
        "        self.n_layers = n_layers\n",
        "        self.hidden_dim = hidden_dim\n",
        "        \n",
        "        self.embedding = nn.Embedding(vocab_size, embedding_dim)\n",
        "        self.lstm = nn.LSTM(embedding_dim, hidden_dim, n_layers, dropout=drop_prob, batch_first=True)\n",
        "        self.dropout = nn.Dropout(drop_prob)\n",
        "        self.fc = nn.Linear(hidden_dim, output_size)\n",
        "        self.sigmoid = nn.Sigmoid()\n",
        "        \n",
        "    def forward(self, x, hidden):\n",
        "        batch_size = x.size(0)\n",
        "        x = x.long()\n",
        "        embeds = self.embedding(x)\n",
        "        lstm_out, hidden = self.lstm(embeds, hidden)\n",
        "        lstm_out = lstm_out.contiguous().view(-1, self.hidden_dim)\n",
        "        \n",
        "        out = self.dropout(lstm_out)\n",
        "        out = self.fc(out)\n",
        "        out = self.sigmoid(out)\n",
        "        \n",
        "        out = out.view(batch_size, -1)\n",
        "        out = out[:,-1]\n",
        "        return out, hidden\n",
        "    \n",
        "    def init_hidden(self, batch_size):\n",
        "        weight = next(self.parameters()).data\n",
        "        hidden = (weight.new(self.n_layers, batch_size, self.hidden_dim).zero_().to(device),\n",
        "                      weight.new(self.n_layers, batch_size, self.hidden_dim).zero_().to(device))\n",
        "        return hidden"
      ],
      "execution_count": 0,
      "outputs": []
    },
    {
      "cell_type": "code",
      "metadata": {
        "id": "J89i_NyxhysH",
        "colab_type": "code",
        "colab": {}
      },
      "source": [
        "vocab_size = len(vocab_to_int) + 1\n",
        "output_size = 1\n",
        "embedding_dim = 200\n",
        "hidden_dim = 256\n",
        "n_layers = 2\n",
        "dropout_prob = 0.5\n",
        "\n",
        "model = SentimentNet(vocab_size, output_size, embedding_dim, hidden_dim, n_layers, dropout_prob)\n",
        "model.to(device)\n",
        "\n",
        "lr=0.005\n",
        "criterion = nn.BCELoss()\n",
        "optimizer = torch.optim.Adam(model.parameters(), lr=lr)"
      ],
      "execution_count": 0,
      "outputs": []
    },
    {
      "cell_type": "code",
      "metadata": {
        "id": "szZWJ3I-UzV4",
        "colab_type": "code",
        "outputId": "a389459f-ad04-442d-9239-e7c74fa57f06",
        "colab": {
          "base_uri": "https://localhost:8080/",
          "height": 825
        }
      },
      "source": [
        "from tqdm import tqdm\n",
        "epochs = 10\n",
        "counter = 0\n",
        "clip = 5\n",
        "valid_loss_min = np.Inf\n",
        "# Create a list to keep track of how the loss changes\n",
        "train_losses = []\n",
        "validate_losses = []\n",
        "\n",
        "model.train()\n",
        "for i in (range(epochs)):\n",
        "    h = model.init_hidden(batch_size)\n",
        "\n",
        "    # A variable for containing the sum of all batch losses for this epoch\n",
        "    train_loss = 0\n",
        "    validate_loss = 0\n",
        "\n",
        "    \n",
        "    #Train step\n",
        "    counter = 0\n",
        "    for inputs, labels in (train_loader):\n",
        "        counter += 1\n",
        "        h = tuple([e.data for e in h])\n",
        "        inputs, labels = inputs.to(device), labels.to(device)\n",
        "        model.zero_grad()\n",
        "        output, h = model(inputs, h)\n",
        "        loss = criterion(output.squeeze(), labels.float())\n",
        "        loss.backward()\n",
        "        nn.utils.clip_grad_norm_(model.parameters(), clip)\n",
        "        optimizer.step()\n",
        "        train_loss += loss.item()\n",
        "        print(\n",
        "            '\\rEpoch {} [{}/{}] - Loss: {}'.format(\n",
        "                i+1, counter, len(train_loader), loss\n",
        "            ),\n",
        "            end=''\n",
        "        )\n",
        "    print('\\n')\n",
        "\n",
        "\n",
        "    #Validation Step\n",
        "    counter = 0\n",
        "    val_h = model.init_hidden(batch_size)\n",
        "    val_losses = []\n",
        "    model.eval()\n",
        "    for inp, lab in valid_loader:\n",
        "        counter += 1\n",
        "        val_h = tuple([each.data for each in val_h])\n",
        "        inp, lab = inp.to(device), lab.to(device)\n",
        "        out, val_h = model(inp, val_h)\n",
        "        val_loss = criterion(out.squeeze(), lab.float())\n",
        "        val_losses.append(val_loss.item())\n",
        "        validate_loss += val_loss.item()\n",
        "        print(\n",
        "            '\\rValidation of Epoch {} [{}/{}] - Loss: {}'.format(\n",
        "                i+1, counter, len(valid_loader), val_loss\n",
        "            ),\n",
        "            end=''\n",
        "        )\n",
        "    print('\\n')\n",
        "\n",
        "    #Append the epoch loss to the list of losses\n",
        "    train_losses.append(train_loss/len(train_loader))\n",
        "    validate_losses.append(validate_loss/len(valid_loader))\n",
        "        \n",
        "    model.train()\n",
        "    if np.mean(val_losses) <= valid_loss_min:\n",
        "        torch.save(model.state_dict(), './state_dict.pt')\n",
        "        print('Validation loss decreased ({:.6f} --> {:.6f}).  Saving model ...\\n'.format(valid_loss_min,np.mean(val_losses)))\n",
        "        valid_loss_min = np.mean(val_losses)"
      ],
      "execution_count": 0,
      "outputs": [
        {
          "output_type": "stream",
          "text": [
            "Epoch 1 [1444/1444] - Loss: 0.20879873633384705\n",
            "\n",
            "Validation of Epoch 1 [722/722] - Loss: 0.1611938625574112\n",
            "\n",
            "Validation loss decreased (inf --> 0.174717).  Saving model ...\n",
            "\n",
            "Epoch 2 [1444/1444] - Loss: 0.1115633174777031\n",
            "\n",
            "Validation of Epoch 2 [722/722] - Loss: 0.15142086148262024\n",
            "\n",
            "Validation loss decreased (0.174717 --> 0.165075).  Saving model ...\n",
            "\n",
            "Epoch 3 [1444/1444] - Loss: 0.14083249866962433\n",
            "\n",
            "Validation of Epoch 3 [722/722] - Loss: 0.3171212673187256\n",
            "\n",
            "Epoch 4 [1444/1444] - Loss: 0.07595857232809067\n",
            "\n",
            "Validation of Epoch 4 [722/722] - Loss: 0.1298874020576477\n",
            "\n",
            "Epoch 5 [1444/1444] - Loss: 0.14634522795677185\n",
            "\n",
            "Validation of Epoch 5 [722/722] - Loss: 0.12484441697597504\n",
            "\n",
            "Epoch 6 [1444/1444] - Loss: 0.18988555669784546\n",
            "\n",
            "Validation of Epoch 6 [722/722] - Loss: 0.30791381001472473\n",
            "\n",
            "Epoch 7 [1444/1444] - Loss: 0.13926568627357483\n",
            "\n",
            "Validation of Epoch 7 [722/722] - Loss: 0.16431939601898193\n",
            "\n",
            "Epoch 8 [1444/1444] - Loss: 0.0834873616695404\n",
            "\n",
            "Validation of Epoch 8 [722/722] - Loss: 0.07339742034673691\n",
            "\n",
            "Epoch 9 [1444/1444] - Loss: 0.06838724762201309\n",
            "\n",
            "Validation of Epoch 9 [722/722] - Loss: 0.4703269898891449\n",
            "\n",
            "Epoch 10 [1444/1444] - Loss: 0.04244337975978851\n",
            "\n",
            "Validation of Epoch 10 [722/722] - Loss: 0.2184370458126068\n",
            "\n"
          ],
          "name": "stdout"
        }
      ]
    },
    {
      "cell_type": "code",
      "metadata": {
        "id": "3NELl8_3kZDj",
        "colab_type": "code",
        "outputId": "242a5336-fc58-4562-f7c3-333cd9bf4cba",
        "colab": {
          "base_uri": "https://localhost:8080/",
          "height": 54
        }
      },
      "source": [
        "# Loading the best model and running the \n",
        "model.load_state_dict(torch.load('./state_dict.pt'))\n",
        "\n",
        "test_losses = []\n",
        "num_correct = 0\n",
        "h = model.init_hidden(batch_size)\n",
        "\n",
        "model.eval()\n",
        "for inputs, labels in test_loader:\n",
        "    h = tuple([each.data for each in h])\n",
        "    inputs, labels = inputs.to(device), labels.to(device)\n",
        "    output, h = model(inputs, h)\n",
        "    test_loss = criterion(output.squeeze(), labels.float())\n",
        "    test_losses.append(test_loss.item())\n",
        "    pred = torch.round(output.squeeze())  # Rounds the output to 0/1\n",
        "    correct_tensor = pred.eq(labels.float().view_as(pred))\n",
        "    correct = np.squeeze(correct_tensor.cpu().numpy())\n",
        "    num_correct += np.sum(correct)\n",
        "\n",
        "print(\"Test loss: {:.3f}\".format(np.mean(test_losses)))\n",
        "test_acc = num_correct/len(test_loader.dataset)\n",
        "print(\"Test accuracy: {:.3f}%\".format(test_acc*100))"
      ],
      "execution_count": 0,
      "outputs": [
        {
          "output_type": "stream",
          "text": [
            "Test loss: 0.163\n",
            "Test accuracy: 93.716%\n"
          ],
          "name": "stdout"
        }
      ]
    },
    {
      "cell_type": "code",
      "metadata": {
        "id": "AuzwOcaCl5Jo",
        "colab_type": "code",
        "outputId": "0a702918-0986-4e88-cbfb-d3543a72821d",
        "colab": {
          "base_uri": "https://localhost:8080/",
          "height": 316
        }
      },
      "source": [
        "# Plot the mean training and validation loss per epoch\n",
        "\n",
        "print(\"Results\")\n",
        "\n",
        "line1 = plt.plot(range(1,epochs+1),train_losses,label='Traning Losses')\n",
        "line2 = plt.plot(range(1,epochs+1),validate_losses,'r',label='Validation Losses')\n",
        "plt.xlabel('Epochs')\n",
        "plt.ylabel('Mean Loss')\n",
        "plt.legend()\n",
        "plt.show()\n",
        "\n",
        "len(val_losses)"
      ],
      "execution_count": 0,
      "outputs": [
        {
          "output_type": "stream",
          "text": [
            "Results\n"
          ],
          "name": "stdout"
        },
        {
          "output_type": "display_data",
          "data": {
            "image/png": "[encoded data removed]",
            "text/plain": [
              "<Figure size 432x288 with 1 Axes>"
            ]
          },
          "metadata": {
            "tags": []
          }
        },
        {
          "output_type": "execute_result",
          "data": {
            "text/plain": [
              "722"
            ]
          },
          "metadata": {
            "tags": []
          },
          "execution_count": 76
        }
      ]
    },
    {
      "cell_type": "code",
      "metadata": {
        "id": "-ESLpq0iKD1h",
        "colab_type": "code",
        "outputId": "347f1ed3-f90f-4046-88e2-d5f688ff2aae",
        "colab": {
          "base_uri": "https://localhost:8080/",
          "height": 54
        }
      },
      "source": [
        "## THIS IS FOR TESTING YOUR OWN SENTENCES. \n",
        "\n",
        "# Loading the best model\n",
        "model.load_state_dict(torch.load('./state_dict.pt'))\n",
        "\n",
        "\n",
        "test_input =[]\n",
        "test_input.append('very bad')\n",
        "test_int = []\n",
        "\n",
        "test_int = []\n",
        "for test_temp in test_input:\n",
        "  r=[]\n",
        "  for w in test_temp.split():\n",
        "    try:\n",
        "      r.append(vocab_to_int[w])\n",
        "    except:\n",
        "      continue\n",
        "  test_int.append(r)\n",
        "\n",
        "print (test_int[0:3])\n",
        "\n",
        "h = model.init_hidden(1)\n",
        "\n",
        "features = np.array(pad_features(test_int,200))\n",
        "\n",
        "features = torch.from_numpy(features)\n",
        "\n",
        "model.eval()\n",
        "\n",
        "h = tuple([each.data for each in h])\n",
        "inputs = features.to(device)\n",
        "output, h = model(inputs, h)\n",
        "\n",
        "print(output)"
      ],
      "execution_count": 0,
      "outputs": [
        {
          "output_type": "stream",
          "text": [
            "[[49, 165]]\n",
            "tensor([0.3037], device='cuda:0', grad_fn=<SelectBackward>)\n"
          ],
          "name": "stdout"
        }
      ]
    },
    {
      "cell_type": "code",
      "metadata": {
        "id": "rbkMx3m0VRiy",
        "colab_type": "code",
        "colab": {}
      },
      "source": [
        ""
      ],
      "execution_count": 0,
      "outputs": []
    }
  ]
}