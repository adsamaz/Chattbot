{
  "nbformat": 4,
  "nbformat_minor": 0,
  "metadata": {
    "colab": {
      "name": "chatbot.ipynb",
      "provenance": [],
      "collapsed_sections": [],
      "include_colab_link": true
    },
    "kernelspec": {
      "name": "python3",
      "display_name": "Python 3"
    }
  },
  "cells": [
    {
      "cell_type": "markdown",
      "metadata": {
        "id": "view-in-github",
        "colab_type": "text"
      },
      "source": [
        "<a href=\"https://colab.research.google.com/github/adsamaz/Chattbot/blob/master/chatbot.ipynb\" target=\"_parent\"><img src=\"https://colab.research.google.com/assets/colab-badge.svg\" alt=\"Open In Colab\"/></a>"
      ]
    },
    {
      "cell_type": "code",
      "metadata": {
        "id": "y5JEmmRx6Oju",
        "colab_type": "code",
        "outputId": "8456bb22-87d9-4ccd-f09a-0cdcbc8efe36",
        "colab": {
          "base_uri": "https://localhost:8080/",
          "height": 87
        }
      },
      "source": [
        "import torch\n",
        "import torch.nn as nn\n",
        "import torch.optim as optim\n",
        "import torch.nn.functional as F\n",
        "from torch.utils.data import TensorDataset, DataLoader\n",
        "import numpy as np\n",
        "from matplotlib import pyplot as plt\n",
        "import pandas as pd\n",
        "from sklearn.model_selection import train_test_split\n",
        "from sklearn.feature_extraction.text import TfidfVectorizer\n",
        "import nltk\n",
        "from nltk.corpus import stopwords\n",
        "from nltk import word_tokenize\n",
        "nltk.download('punkt')\n",
        "nltk.download('stopwords')\n",
        "from sklearn.metrics import accuracy_score, confusion_matrix, precision_score, recall_score, classification_report\n",
        "\n"
      ],
      "execution_count": 0,
      "outputs": [
        {
          "output_type": "stream",
          "text": [
            "[nltk_data] Downloading package punkt to /root/nltk_data...\n",
            "[nltk_data]   Unzipping tokenizers/punkt.zip.\n",
            "[nltk_data] Downloading package stopwords to /root/nltk_data...\n",
            "[nltk_data]   Unzipping corpora/stopwords.zip.\n"
          ],
          "name": "stdout"
        }
      ]
    },
    {
      "cell_type": "code",
      "metadata": {
        "id": "KUVS8yVq6cUJ",
        "colab_type": "code",
        "colab": {}
      },
      "source": [
        "def preprocess_pandas(data, columns):\n",
        "    df_ = pd.DataFrame(columns=columns)\n",
        "    data['Sentence'] = data['Sentence'].str.lower()\n",
        "    data['Sentence'] = data['Sentence'].replace('[a-zA-Z0-9-_.]+@[a-zA-Z0-9-_.]+', '', regex=True)                      # remove emails\n",
        "    data['Sentence'] = data['Sentence'].replace('((25[0-5]|2[0-4][0-9]|[01]?[0-9][0-9]?)(\\.|$)){4}', '', regex=True)    # remove IP address\n",
        "    data['Sentence'] = data['Sentence'].str.replace('[^\\w\\s]','')                                                       # remove special characters\n",
        "    data['Sentence'] = data['Sentence'].replace('\\d', '', regex=True)                                                   # remove numbers\n",
        "    for index, row in data.iterrows():\n",
        "        word_tokens = word_tokenize(row['Sentence'])\n",
        "        filtered_sent = [w for w in word_tokens if not w in stopwords.words('english')]\n",
        "        df_ = df_.append({\n",
        "            \"index\": row['index'],\n",
        "            \"Class\": row['Class'],\n",
        "            \"Sentence\": \" \".join(filtered_sent[0:])\n",
        "        }, ignore_index=True)\n",
        "    return data\n",
        "\n"
      ],
      "execution_count": 0,
      "outputs": []
    },
    {
      "cell_type": "code",
      "metadata": {
        "id": "I37SUr4T6fgU",
        "colab_type": "code",
        "outputId": "6638947c-00bf-4a56-9bcc-318b884b856b",
        "colab": {
          "base_uri": "https://localhost:8080/",
          "height": 35
        }
      },
      "source": [
        "# If this is the primary file that is executed (ie not an import of another file)\n",
        "if __name__ == \"__main__\":\n",
        "    # get data, pre-process and split\n",
        "    data = pd.read_csv(\"https://raw.githubusercontent.com/adsamaz/Chattbot/master/ANN_project_files/amazon_cells_labelled.txt?token=AH6YBL7A3NJ4RA5LTSEYWC254TOFO\", delimiter='\\t', header=None)\n",
        "    data.columns = ['Sentence', 'Class']\n",
        "    data['index'] = data.index                                          # add new column index\n",
        "    columns = ['index', 'Class', 'Sentence']\n",
        "    data = preprocess_pandas(data, columns)                             # pre-process\n",
        "    training_data, validation_data, training_labels, validation_labels = train_test_split( # split the data into training, validation, and test splits\n",
        "        data['Sentence'].values.astype('U'),\n",
        "        data['Class'].values.astype('int32'),\n",
        "        test_size=0.10,\n",
        "        random_state=0,\n",
        "        shuffle=True\n",
        "    )\n",
        "    print(training_data.shape)\n",
        "\n",
        "    # vectorize data using TFIDF and transform for PyTorch for scalability\n",
        "    word_vectorizer = TfidfVectorizer(analyzer='word', ngram_range=(1,2), max_features=50000, max_df=0.5, use_idf=True, norm='l2')\n",
        "    training_data = word_vectorizer.fit_transform(training_data)        # transform texts to sparse matrix\n",
        "    training_data = training_data.todense()                             # convert to dense matrix for Pytorch\n",
        "    vocab_size = len(word_vectorizer.vocabulary_)\n",
        "    validation_data = word_vectorizer.transform(validation_data)\n",
        "    validation_data = validation_data.todense()\n",
        "    train_x_tensor = torch.from_numpy(np.array(training_data)).type(torch.FloatTensor)\n",
        "    train_y_tensor = torch.from_numpy(np.array(training_labels)).long()\n",
        "    validation_x_tensor = torch.from_numpy(np.array(validation_data)).type(torch.FloatTensor)\n",
        "    validation_y_tensor = torch.from_numpy(np.array(validation_labels)).long()\n"
      ],
      "execution_count": 0,
      "outputs": [
        {
          "output_type": "stream",
          "text": [
            "(900,)\n"
          ],
          "name": "stdout"
        }
      ]
    },
    {
      "cell_type": "code",
      "metadata": {
        "id": "WcPzxLq924iI",
        "colab_type": "code",
        "outputId": "8b1d11e3-7119-4548-f2cb-1d2ddea0ea68",
        "colab": {
          "base_uri": "https://localhost:8080/",
          "height": 35
        }
      },
      "source": [
        ""
      ],
      "execution_count": 0,
      "outputs": [
        {
          "output_type": "stream",
          "text": [
            "(900, 7305)\n"
          ],
          "name": "stdout"
        }
      ]
    },
    {
      "cell_type": "code",
      "metadata": {
        "id": "7kBUOnXpraMD",
        "colab_type": "code",
        "outputId": "677d0e19-7bf1-436f-b3ae-7e2670a4133a",
        "colab": {
          "base_uri": "https://localhost:8080/",
          "height": 139
        }
      },
      "source": [
        "# This code initializes the neural network\n",
        "network = nn.Sequential(\n",
        "    nn.Linear(7305, 500), nn.ReLU(), nn.Linear(500, 2)\n",
        ")\n",
        "\n",
        "# Initialize the optimizer\n",
        "optimizer = optim.Adam(network.parameters(), lr=0.01)\n",
        "\n",
        "# Initialize the loss function\n",
        "loss_function = nn.MSELoss()\n",
        "\n",
        "# An Embedding layer used for turning int into one-hot (0 -> [1,0,0,0,0,0,0,0,0,0], 5 -> [0,0,0,0,0,1,0,0,0,0])\n",
        "to_onehot = nn.Embedding(2, 2) \n",
        "to_onehot.weight.data = torch.eye(2)\n",
        "\n",
        "to_onehot(train_y_tensor)"
      ],
      "execution_count": 0,
      "outputs": [
        {
          "output_type": "execute_result",
          "data": {
            "text/plain": [
              "tensor([[1., 0.],\n",
              "        [0., 1.],\n",
              "        [1., 0.],\n",
              "        ...,\n",
              "        [0., 1.],\n",
              "        [1., 0.],\n",
              "        [1., 0.]], grad_fn=<EmbeddingBackward>)"
            ]
          },
          "metadata": {
            "tags": []
          },
          "execution_count": 4
        }
      ]
    },
    {
      "cell_type": "code",
      "metadata": {
        "id": "lz8ptNeM6qWM",
        "colab_type": "code",
        "outputId": "4e291645-fd08-42ec-ff5c-f27034ef44d9",
        "colab": {
          "base_uri": "https://localhost:8080/",
          "height": 559
        }
      },
      "source": [
        "# Decide the number of epochs to train for (one epoch is one complete run-through of the data)\n",
        "epochs = 30\n",
        "\n",
        "\n",
        "# Create a list to keep track of how the loss changes\n",
        "losses = []\n",
        "validation_epoch_losses = []\n",
        "accuracy = [0]\n",
        "# For each epoch\n",
        "for epoch in range(epochs):\n",
        "\n",
        "    # A variable for containing the sum of all batch losses for this epoch\n",
        "    epoch_loss = 0\n",
        "    validation_epoch_loss = 0\n",
        "\n",
        "    # For each batch\n",
        "    #for batch_nr, (images, labels) in enumerate(train_loader):\n",
        "\n",
        "    # Extract the labels and turn them into one-hot representation (note: not all loss functions needs this)\n",
        "    labels = to_onehot(train_y_tensor)\n",
        "\n",
        "    # Predict for each digit in the batch whatclass they belong to\n",
        "    prediction = network(train_x_tensor)\n",
        "\n",
        "    # Calculate the loss of the prediction by comparing to the expected output\n",
        "    loss = loss_function(prediction, labels)\n",
        "\n",
        "    # Backpropogate the loss through the network to find the gradients of all parameters\n",
        "    loss.backward()\n",
        "\n",
        "    # Update the parameters along their gradients\n",
        "    optimizer.step()\n",
        "\n",
        "    # Clear stored gradient values\n",
        "    optimizer.zero_grad()\n",
        "\n",
        "    # Add the loss to the total epoch loss (item() turns a PyTorch scalar into a normal Python datatype)\n",
        "    epoch_loss += loss.item()\n",
        "\n",
        "    # Print the epoch, batch, and loss\n",
        "    print(\n",
        "        '\\rEpoch {} - Loss: {}'.format(\n",
        "            epoch+1, loss\n",
        "        ),\n",
        "        end=''\n",
        "    )\n",
        "\n",
        "    # Append the epoch loss to the list of losses\n",
        "    #accu = validate_on_images(iter(validation_loader))\n",
        "    #accuracy.append(accu)\n",
        "    #print(\" Accuracy:\",accu)\n",
        "    losses.append(epoch_loss)\n",
        "\n",
        "  \n",
        "\n",
        "    #Check on validation\n",
        "\n",
        "    # Extract the labels and turn them into one-hot representation (note: not all loss functions needs this)\n",
        "    labels = to_onehot(validation_y_tensor)\n",
        "\n",
        "    # Predict for each digit in the batch whatclass they belong to\n",
        "    prediction = network(validation_x_tensor)\n",
        "    \n",
        "    # Calculate the loss of the prediction by comparing to the expected output\n",
        "    loss = loss_function(prediction, labels)\n",
        "      \n",
        "      \n",
        "      \n",
        "    validation_epoch_loss += loss.item()\n",
        "    validation_epoch_losses.append(validation_epoch_loss)   \n",
        "\n",
        "\n",
        "# Plot the training loss per epoch\n",
        "plt.plot(range(1, epochs+1), losses)\n",
        "plt.xlabel('Epochs')\n",
        "plt.ylabel('Loss')\n",
        "plt.show()\n",
        "\n",
        "plt.plot(range(1, epochs+1), validation_epoch_losses)\n",
        "plt.xlabel('Epochs')\n",
        "plt.ylabel('Accuracy')\n",
        "plt.show()\n",
        "\n",
        "# Have the trained network predict on some images\n",
        "#predict_on_images(iterator=iter(train_loader), images_to_show=10)"
      ],
      "execution_count": 0,
      "outputs": [
        {
          "output_type": "stream",
          "text": [
            "Epoch 30 - Loss: 0.002951135626062751"
          ],
          "name": "stdout"
        },
        {
          "output_type": "display_data",
          "data": {
            "image/png": "[encoded data removed]",
            "text/plain": [
              "<Figure size 432x288 with 1 Axes>"
            ]
          },
          "metadata": {
            "tags": []
          }
        },
        {
          "output_type": "display_data",
          "data": {
            "image/png": "[encoded data removed]",
            "text/plain": [
              "<Figure size 432x288 with 1 Axes>"
            ]
          },
          "metadata": {
            "tags": []
          }
        }
      ]
    },
    {
      "cell_type": "code",
      "metadata": {
        "id": "9oKXeSPs9lIh",
        "colab_type": "code",
        "outputId": "941f2e5d-8440-4698-c8ff-db520f09b6e0",
        "colab": {
          "base_uri": "https://localhost:8080/",
          "height": 52
        }
      },
      "source": [
        "#print(train_x_tensor.shape)\n",
        "\n",
        "#scent = \"I like this\"\n",
        "scent = np.array([\"table\"])\n",
        "data = word_vectorizer.transform(scent).todense()\n",
        "\n",
        "data = torch.from_numpy(np.array(data)).type(torch.FloatTensor)\n",
        "\n",
        "prediction = network(data)\n",
        "\n",
        "print(prediction)\n",
        "\n",
        "if prediction[0][0] > prediction[0][1]:\n",
        "  print(\"BAD\")\n",
        "else:\n",
        "  print(\"GOOD\")"
      ],
      "execution_count": 0,
      "outputs": [
        {
          "output_type": "stream",
          "text": [
            "tensor([[0.1948, 0.2300]], grad_fn=<AddmmBackward>)\n",
            "GOOD\n"
          ],
          "name": "stdout"
        }
      ]
    },
    {
      "cell_type": "code",
      "metadata": {
        "id": "tkUGX0Og6Yw0",
        "colab_type": "code",
        "colab": {
          "base_uri": "https://localhost:8080/",
          "height": 129
        },
        "outputId": "eccfd443-da8b-4aaa-f992-d043317ae473"
      },
      "source": [
        "from google.colab import drive\n",
        "drive.mount('/content/drive')"
      ],
      "execution_count": 1,
      "outputs": [
        {
          "output_type": "stream",
          "text": [
            "Go to this URL in a browser: https://accounts.google.com/o/oauth2/auth?client_id=947318989803-6bn6qk8qdgf4n4g3pfee6491hc0brc4i.apps.googleusercontent.com&redirect_uri=urn%3aietf%3awg%3aoauth%3a2.0%3aoob&response_type=code&scope=email%20https%3a%2f%2fwww.googleapis.com%2fauth%2fdocs.test%20https%3a%2f%2fwww.googleapis.com%2fauth%2fdrive%20https%3a%2f%2fwww.googleapis.com%2fauth%2fdrive.photos.readonly%20https%3a%2f%2fwww.googleapis.com%2fauth%2fpeopleapi.readonly\n",
            "\n",
            "Enter your authorization code:\n",
            "··········\n",
            "Mounted at /content/drive\n"
          ],
          "name": "stdout"
        }
      ]
    }
  ]
}