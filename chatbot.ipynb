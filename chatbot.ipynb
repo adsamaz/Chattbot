{
  "nbformat": 4,
  "nbformat_minor": 0,
  "metadata": {
    "colab": {
      "name": "chatbot.ipynb",
      "provenance": [],
      "collapsed_sections": [],
      "include_colab_link": true
    },
    "kernelspec": {
      "name": "python3",
      "display_name": "Python 3"
    },
    "accelerator": "GPU"
  },
  "cells": [
    {
      "cell_type": "markdown",
      "metadata": {
        "id": "view-in-github",
        "colab_type": "text"
      },
      "source": [
        "<a href=\"https://colab.research.google.com/github/adsamaz/Chattbot/blob/remove-unwanted-data/chatbot.ipynb\" target=\"_parent\"><img src=\"https://colab.research.google.com/assets/colab-badge.svg\" alt=\"Open In Colab\"/></a>"
      ]
    },
    {
      "cell_type": "markdown",
      "metadata": {
        "id": "dMT7LW55pKMs",
        "colab_type": "text"
      },
      "source": [
        "## Chatbot ETA\n",
        "In the course Neural networks and learning machines (D7046E) this sentimentanalys network was created. \n",
        "\n",
        "Made by:\n",
        "Ivar Rockström,\n",
        "Niklas Ulfvarson,\n",
        "Adam Sawert,\n",
        "Rebecka Mattsson and\n",
        "Niklas Dahlquist"
      ]
    },
    {
      "cell_type": "code",
      "metadata": {
        "id": "y5JEmmRx6Oju",
        "colab_type": "code",
        "outputId": "ef530a12-3504-4966-ea2b-604fef6a685c",
        "colab": {
          "base_uri": "https://localhost:8080/",
          "height": 90
        }
      },
      "source": [
        "import torch\n",
        "import torch.nn as nn\n",
        "import torch.optim as optim\n",
        "import torch.nn.functional as F\n",
        "from torch.utils.data import TensorDataset, DataLoader\n",
        "import numpy as np\n",
        "from matplotlib import pyplot as plt\n",
        "import pandas as pd\n",
        "from sklearn.model_selection import train_test_split\n",
        "from sklearn.feature_extraction.text import TfidfVectorizer\n",
        "import nltk\n",
        "from nltk.corpus import stopwords\n",
        "from nltk import word_tokenize\n",
        "nltk.download('punkt')\n",
        "nltk.download('stopwords')\n",
        "from sklearn.metrics import accuracy_score, confusion_matrix, precision_score, recall_score, classification_report\n",
        "from collections import Counter\n",
        "\n"
      ],
      "execution_count": 1,
      "outputs": [
        {
          "output_type": "stream",
          "text": [
            "[nltk_data] Downloading package punkt to /root/nltk_data...\n",
            "[nltk_data]   Unzipping tokenizers/punkt.zip.\n",
            "[nltk_data] Downloading package stopwords to /root/nltk_data...\n",
            "[nltk_data]   Unzipping corpora/stopwords.zip.\n"
          ],
          "name": "stdout"
        }
      ]
    },
    {
      "cell_type": "markdown",
      "metadata": {
        "id": "8YbuOtucrOJ4",
        "colab_type": "text"
      },
      "source": [
        "Mounts a google drive folder which contains orginal databse with reviews from amazon. "
      ]
    },
    {
      "cell_type": "code",
      "metadata": {
        "id": "tkUGX0Og6Yw0",
        "colab_type": "code",
        "outputId": "26ffa97d-c57b-4d3a-bf05-69fec478cf33",
        "colab": {
          "base_uri": "https://localhost:8080/",
          "height": 129
        }
      },
      "source": [
        "from google.colab import drive\n",
        "drive.mount('/content/drive')"
      ],
      "execution_count": 2,
      "outputs": [
        {
          "output_type": "stream",
          "text": [
            "Go to this URL in a browser: https://accounts.google.com/o/oauth2/auth?client_id=947318989803-6bn6qk8qdgf4n4g3pfee6491hc0brc4i.apps.googleusercontent.com&redirect_uri=urn%3aietf%3awg%3aoauth%3a2.0%3aoob&response_type=code&scope=email%20https%3a%2f%2fwww.googleapis.com%2fauth%2fdocs.test%20https%3a%2f%2fwww.googleapis.com%2fauth%2fdrive%20https%3a%2f%2fwww.googleapis.com%2fauth%2fdrive.photos.readonly%20https%3a%2f%2fwww.googleapis.com%2fauth%2fpeopleapi.readonly\n",
            "\n",
            "Enter your authorization code:\n",
            "··········\n",
            "Mounted at /content/drive\n"
          ],
          "name": "stdout"
        }
      ]
    },
    {
      "cell_type": "markdown",
      "metadata": {
        "id": "c0kj2Osbrceh",
        "colab_type": "text"
      },
      "source": [
        "Imports the database as datafram using the Pandas library. Our database contains around two hundred thousand reviews for different video games on amazon. All reviews are rated on the scale 1 to 5, where 5 is the most positive and 1 the most negative. \n",
        "\n",
        "The goal with our network is to classify if a text is postivt or negtive and not to have a scale from 1 to 5. Therefore we removed all reviews with a score of 3. The we set all reviews with a score of 1 and 2 as negative (score = 0). Reviews with a score of 4 or 5 where set to positive (score = 1).\n",
        "\n",
        "Then we clean all text from special charachters and numbers. We also removes all words that not appear more then 15 times in all reviews."
      ]
    },
    {
      "cell_type": "code",
      "metadata": {
        "id": "oTbWM5jrF8aw",
        "colab_type": "code",
        "colab": {}
      },
      "source": [
        "import gzip\n",
        "\n",
        "def parse(path):\n",
        "  g = gzip.open(path, 'rb')\n",
        "  for l in g:\n",
        "    yield eval(l)\n",
        "\n",
        "def getDF(path):\n",
        "  i = 0\n",
        "  df = {}\n",
        "  for d in parse(path):\n",
        "    df[i] = d\n",
        "    i += 1\n",
        "  return pd.DataFrame.from_dict(df, orient='index')\n",
        "\n",
        "df = getDF('/content/drive/My Drive/Chatbot_shared/reviews_Video_Games_5.json.gz')"
      ],
      "execution_count": 0,
      "outputs": []
    },
    {
      "cell_type": "code",
      "metadata": {
        "id": "U2a_lRBOIQQp",
        "colab_type": "code",
        "outputId": "5922b6d2-9582-4f0d-f232-60c90a90d175",
        "colab": {
          "base_uri": "https://localhost:8080/",
          "height": 72
        }
      },
      "source": [
        "#Removes everything in except the review and overall score. Then removes\n",
        "# all reviews with an score of 3 beacuse of them being natrual when we set all\n",
        "#score under 3 to 0(negative) and score over 3 to 1(positive)\n",
        "#df=data\n",
        "df=df.get(['reviewText','overall'])\n",
        "df=df[df.overall != 3.0] \n",
        "df=df.replace(1.0, 0)\n",
        "df=df.replace(2.0, 0)\n",
        "df=df.replace(4.0, 1)\n",
        "df=df.replace(5.0, 1)\n",
        "reviews = df.reviewText\n",
        "score = df.overall\n",
        "\n",
        "# Removes special characters, numberts etc\n",
        "reviews = reviews.str.lower()\n",
        "reviews = reviews.replace('[a-zA-Z0-9-_.]+@[a-zA-Z0-9-_.]+', '', regex=True)                      # remove emails\n",
        "reviews = reviews.replace('((25[0-5]|2[0-4][0-9]|[01]?[0-9][0-9]?)(\\.|$)){4}', '', regex=True)    # remove IP address\n",
        "reviews = reviews.str.replace('[^\\w\\s]','')                                                       # remove special characters\n",
        "reviews = reviews.replace('\\d', '', regex=True)                                                   # remove numbers\n",
        "\n",
        "#Tokenizer\n",
        "all_text = ' '.join(reviews)          # Makes on string of all texts.\n",
        "words = all_text.split()\n",
        "\n",
        "#Count all the words\n",
        "count_words = Counter(words)          # Creats a counter function\n",
        "\n",
        "# Sort words after which is most common\n",
        "total_words = len(words)\n",
        "sorted_words = count_words.most_common(total_words)\n",
        "\n",
        "#Creats a vocabulary where all word appearing less then 'minimum_word_count' are \n",
        "#removed.\n",
        "i=0\n",
        "minimum_word_count = 15\n",
        "vocab=[]\n",
        "for x in sorted_words:\n",
        "  if x[1] > minimum_word_count:\n",
        "    vocab.append((x[0],x[1]))\n",
        "    i=i+1\n",
        "\n",
        "print('Number of unique words after removing words appearing less then',minimum_word_count ,'is',len(vocab))\n",
        "print('Before removal there was',len(sorted_words),'unique words')"
      ],
      "execution_count": 11,
      "outputs": [
        {
          "output_type": "stream",
          "text": [
            "484154\n",
            "Number of unique words after removing words appearing less then 15 is 30329\n",
            "Before removal there was 484154 unique words\n"
          ],
          "name": "stdout"
        }
      ]
    },
    {
      "cell_type": "markdown",
      "metadata": {
        "id": "LklcTOWwB_C-",
        "colab_type": "text"
      },
      "source": [
        "After creating a vocabualry all words a converted in to a number. Then all words in the reviews are replaced with the number corresponding to the word. All words which isn't in the vocabulary are replaced with an emapty string."
      ]
    },
    {
      "cell_type": "code",
      "metadata": {
        "id": "eeWWoAA1aE9s",
        "colab_type": "code",
        "outputId": "37dc4fe2-fa6f-4875-c821-e56cecdeb5e9",
        "colab": {
          "base_uri": "https://localhost:8080/",
          "height": 74
        }
      },
      "source": [
        "# Creats a vocabulary where each number corresponds to a word.\n",
        "\n",
        "vocab_to_int = {w:i+1 for i, (w,c) in enumerate(vocab)}\n",
        "\n",
        "# Changes all word in reviews to interger values accoriding to vocab_to_int\n",
        "reviews_int = []\n",
        "for review in reviews:\n",
        "  r=[]\n",
        "  for w in review.split():\n",
        "    try:\n",
        "      r.append(vocab_to_int[w])\n",
        "    except:\n",
        "      continue\n",
        "  reviews_int.append(r)\n",
        "print (reviews_int[0:3])\n",
        "\n",
        "# Creats a array with all review scores. Is a review postive or negative\n",
        "encoded_labels = np.array(score)\n",
        "encoded_labels\n"
      ],
      "execution_count": 20,
      "outputs": [
        {
          "output_type": "stream",
          "text": [
            "[[3001, 1, 9, 23, 4, 3790, 77, 5, 29, 14, 1044, 443, 5063, 1029, 2, 471, 24, 59, 25, 1418, 70, 410, 73, 20, 48, 3075, 3, 1, 9, 8, 1199, 759, 1240, 53, 1, 9, 23, 74, 8, 69, 27, 1, 542, 13, 8, 19, 3, 214, 1658, 3, 214, 12807, 1108, 64, 1078, 12, 1, 1347, 32, 76, 641, 3, 2601, 8, 6039, 10, 12, 1, 2171, 2, 23122, 145, 3, 114, 188, 7835, 9, 103, 51, 1227, 5, 633, 383, 29, 960, 3, 36, 34, 1075, 41, 11281, 9341, 4383, 2, 7, 163, 3, 7, 14, 849, 34, 286, 28, 7, 405, 10, 25, 233, 3, 915, 10, 20, 1620], [28, 7, 27, 4383, 471, 36, 11, 9, 7, 43, 19, 14223, 6, 37, 3928, 3, 4789, 1080, 152, 192, 12, 2664, 39, 205, 4, 314, 4383, 223, 552, 208, 10, 6, 49, 4789, 2, 65, 1, 1435, 41, 1, 9, 49, 2289, 226, 205, 1, 89, 17, 10, 284, 35, 640], [1238, 10604, 1293, 4, 964, 299, 5, 1, 10604, 129, 4, 3653, 33, 9, 1961, 16, 4, 472, 896, 1056, 18, 6067, 594, 8, 129, 12, 3121, 16, 7835, 2, 1481, 73, 1964, 5, 1, 1440, 2, 1, 555, 42, 285, 254, 42, 24, 60, 22, 4, 3653, 10, 52, 7887]]\n"
          ],
          "name": "stdout"
        },
        {
          "output_type": "execute_result",
          "data": {
            "text/plain": [
              "array([0., 0., 0., ..., 0., 0., 0.])"
            ]
          },
          "metadata": {
            "tags": []
          },
          "execution_count": 20
        }
      ]
    },
    {
      "cell_type": "markdown",
      "metadata": {
        "id": "sIGYdlSbDJ8K",
        "colab_type": "text"
      },
      "source": [
        "Visualisation of how big each review is. Reviews containg more then 200 words are removed. If there are any reviews containg 0 words they are also removed."
      ]
    },
    {
      "cell_type": "code",
      "metadata": {
        "id": "DJ0fI6kwcecc",
        "colab_type": "code",
        "outputId": "c9c900a7-f59b-483f-df9f-5efda4c53ba7",
        "colab": {
          "base_uri": "https://localhost:8080/",
          "height": 835
        }
      },
      "source": [
        "#Prints a visualisation of how many word there are in each review\n",
        "\n",
        "print('Number of reviews containg a specific number of words')\n",
        "reviews_len = [len(x) for x in reviews_int]\n",
        "pd.Series(reviews_len).hist()\n",
        "plt.xlabel('Number of words')\n",
        "plt.ylabel('Number of reviews')\n",
        "plt.show()\n",
        "print(pd.Series(reviews_len).describe())\n",
        "\n",
        "reviews_int = [ reviews_int[i] for i, l in enumerate(reviews_len) if (l>0 and l<200) ]\n",
        "encoded_labels = [ encoded_labels[i] for i, l in enumerate(reviews_len) if (l> 0 and l<200) ]\n",
        "\n",
        "#Prints a visualisation of how many word there are in each review after removal \n",
        "#of unwanted reviews. \n",
        "print('\\n')\n",
        "print('Number of reviews containg a specif number of words after removing all') \n",
        "print('reviews containg more then 200 words or 0 words.')\n",
        "\n",
        "reviews_len = [len(x) for x in reviews_int]\n",
        "pd.Series(reviews_len).hist()\n",
        "plt.xlabel('Number of words')\n",
        "plt.ylabel('Number of reviews')\n",
        "plt.show()\n",
        "pd.Series(reviews_len).describe()\n",
        "\n",
        "#Safe check to see that we have the same number of reviews as labels.\n",
        "\n",
        "\n",
        "print('Number of reviews left after removal are',len(reviews_int),'and the number of labels are',len(encoded_labels),'.')\n",
        "print('The numbers must be the same')\n"
      ],
      "execution_count": 29,
      "outputs": [
        {
          "output_type": "stream",
          "text": [
            "Number of reviews containg a specific number of words\n"
          ],
          "name": "stdout"
        },
        {
          "output_type": "display_data",
          "data": {
            "image/png": "[encoded data removed]",
            "text/plain": [
              "<Figure size 432x288 with 1 Axes>"
            ]
          },
          "metadata": {
            "tags": []
          }
        },
        {
          "output_type": "stream",
          "text": [
            "count    144482.000000\n",
            "mean         75.325210\n",
            "std          50.383753\n",
            "min           1.000000\n",
            "25%          32.000000\n",
            "50%          61.000000\n",
            "75%         110.000000\n",
            "max         199.000000\n",
            "dtype: float64\n",
            "\n",
            "\n",
            "Number of reviews containg a specif number of words after removing all\n",
            "reviews containg more then 200 words or 0 words.\n"
          ],
          "name": "stdout"
        },
        {
          "output_type": "display_data",
          "data": {
            "image/png": "[encoded data removed]",
            "text/plain": [
              "<Figure size 432x288 with 1 Axes>"
            ]
          },
          "metadata": {
            "tags": []
          }
        },
        {
          "output_type": "stream",
          "text": [
            "Number of reviews left after removal are 144482 and the number of labels are 144482 .\n",
            "The numbers must be the same\n"
          ],
          "name": "stdout"
        }
      ]
    },
    {
      "cell_type": "markdown",
      "metadata": {
        "id": "aD2CroD2Hgeq",
        "colab_type": "text"
      },
      "source": [
        "In the next step all remaining reviews which are shorter then 200 word are \"zero-padded\" to a size of 200. By doing this all reviews have the same length."
      ]
    },
    {
      "cell_type": "code",
      "metadata": {
        "id": "yt5W47i_dzjV",
        "colab_type": "code",
        "colab": {
          "base_uri": "https://localhost:8080/",
          "height": 439
        },
        "outputId": "d90ecdab-61f6-4f61-e38c-6f077e13c49b"
      },
      "source": [
        "# Fucntion which zero padds and shortens all reviews to seq_length\n",
        "\n",
        "def pad_features(reviews_int, seq_length):\n",
        "    ''' Return features of review_ints, where each review is padded with 0's or truncated to the input seq_length.\n",
        "    '''\n",
        "    features = np.zeros((len(reviews_int), seq_length), dtype = int)\n",
        "    \n",
        "    for i, review in enumerate(reviews_int):\n",
        "        review_len = len(review)\n",
        "        \n",
        "        if review_len <= seq_length:\n",
        "            zeroes = list(np.zeros(seq_length-review_len))\n",
        "            new = zeroes+review        \n",
        "        elif review_len > seq_length:\n",
        "            new = review[0:seq_length]\n",
        "        \n",
        "        features[i,:] = np.array(new)\n",
        "    \n",
        "    return features\n",
        "\n",
        "features = np.array(pad_features(reviews_int,200))\n",
        "features[10][:200]\n"
      ],
      "execution_count": 33,
      "outputs": [
        {
          "output_type": "execute_result",
          "data": {
            "text/plain": [
              "array([    0,     0,     0,     0,     0,     0,     0,     0,     0,\n",
              "           0,     0,     0,     0,     0,     0,     0,     0,     0,\n",
              "           0,     0,     0,     0,     0,     0,     0,     0,     0,\n",
              "           0,     0,     0,     0,     0,     0,     0,     0,     0,\n",
              "           0,     0,     0,     0,     0,     0,     0,     0,     0,\n",
              "           0,     0,     0,     0,     0,     0,     0,     0,     0,\n",
              "           0,     0,     0,     0,     0,     0,     0,     0,     0,\n",
              "           0,     0,     0,     0,     0,     0,     0,     0,     0,\n",
              "           0,     0,     0,     0,     0,     0,     0,     0,     0,\n",
              "           0,     0,     0,     0,     0,     0,     0,     0,     0,\n",
              "           0,     0,     0,     0,     0,     0,     0,     0,     0,\n",
              "           0,     0,     0,     0,     0,     0,     0,     0,     0,\n",
              "           0,     0,     0,     0,     0,     0,     0,     0,     0,\n",
              "           0,     0,     0,     0,     0,     0,     0,     0,     0,\n",
              "           0,     0,     0,     0,     0,     0,     0,     0,     0,\n",
              "           0,     0,     0,     0,     0,     0,     0,     0,     0,\n",
              "           0,     0,     0,     0,     0,     0,     0,     0,     0,\n",
              "           0,     0,     0,     0,     0,     0,     0,     0,     0,\n",
              "           0,     8,   221,    11,     2,     1,   896,   184,   207,\n",
              "          10,    23,     4,  1337,     2,     1, 16419,   408,   248,\n",
              "           3,  1252,     1,   288,    10,   265,    19,    85,     4,\n",
              "          52,     9,    17,     8,   145,   242,    44,    77,     1,\n",
              "         896,  2074])"
            ]
          },
          "metadata": {
            "tags": []
          },
          "execution_count": 33
        }
      ]
    },
    {
      "cell_type": "markdown",
      "metadata": {
        "id": "Aao-2iHrIEpD",
        "colab_type": "text"
      },
      "source": [
        "Creating of training, validation and test sets. Fifty procent of the data is split in a training set and the remaining fifty procent are split in half and saved in a validation set and a test set. "
      ]
    },
    {
      "cell_type": "code",
      "metadata": {
        "id": "yCFysaaOekaU",
        "colab_type": "code",
        "outputId": "d2b0491e-57bc-4d55-8bbc-239a23433aaa",
        "colab": {
          "base_uri": "https://localhost:8080/",
          "height": 35
        }
      },
      "source": [
        "# Splitting data into training, validation and testing\n",
        "split_frac = 0.5\n",
        "len_feat=len(features)\n",
        "encoded_labels = np.array(encoded_labels)\n",
        "\n",
        "train_x = features[0:int(split_frac*len_feat)]\n",
        "train_y = encoded_labels[0:int(split_frac*len_feat)]\n",
        "remaining_x = features[int(split_frac*len_feat):]\n",
        "remaining_y = encoded_labels[int(split_frac*len_feat):]\n",
        "valid_x = remaining_x[0:int(len(remaining_x)*0.5)]\n",
        "valid_y = remaining_y[0:int(len(remaining_y)*0.5)]\n",
        "test_x = remaining_x[int(len(remaining_x)*0.5):]\n",
        "test_y = remaining_y[int(len(remaining_y)*0.5):]\n",
        "\n",
        "\n",
        "type(train_y)"
      ],
      "execution_count": 17,
      "outputs": [
        {
          "output_type": "execute_result",
          "data": {
            "text/plain": [
              "numpy.ndarray"
            ]
          },
          "metadata": {
            "tags": []
          },
          "execution_count": 17
        }
      ]
    },
    {
      "cell_type": "code",
      "metadata": {
        "id": "5IsHVEUofTLO",
        "colab_type": "code",
        "colab": {}
      },
      "source": [
        "import torch\n",
        "from torch.utils.data import DataLoader, TensorDataset\n",
        "\n",
        "# create Tensor datasets\n",
        "train_data = TensorDataset(torch.from_numpy(train_x), torch.from_numpy(train_y))\n",
        "valid_data = TensorDataset(torch.from_numpy(valid_x), torch.from_numpy(valid_y))\n",
        "test_data = TensorDataset(torch.from_numpy(test_x), torch.from_numpy(test_y))\n",
        "\n",
        "# dataloaders\n",
        "batch_size = 50\n",
        "\n",
        "# make sure to SHUFFLE your data. removes last incomplete batch\n",
        "train_loader = DataLoader(train_data, shuffle=True, batch_size=batch_size,drop_last=True)\n",
        "valid_loader = DataLoader(valid_data, shuffle=True, batch_size=batch_size,drop_last=True)\n",
        "test_loader = DataLoader(test_data, shuffle=True, batch_size=batch_size,drop_last=True)"
      ],
      "execution_count": 0,
      "outputs": []
    },
    {
      "cell_type": "code",
      "metadata": {
        "id": "dbvlbYutgkMn",
        "colab_type": "code",
        "outputId": "9c1aefa5-3137-4cf8-bd1d-9fae991ec2e0",
        "colab": {
          "base_uri": "https://localhost:8080/",
          "height": 311
        }
      },
      "source": [
        "# obtain one batch of training data\n",
        "dataiter = iter(train_loader)\n",
        "sample_x, sample_y = dataiter.next()\n",
        "print('Sample input size: ', sample_x.size()) \n",
        "# batch_size, seq_length\n",
        "print('Sample input: \\n', sample_x)\n",
        "print()\n",
        "print('Sample label size: ', sample_y.size()) \n",
        "# batch_size\n",
        "print('Sample label: \\n', sample_y)"
      ],
      "execution_count": 19,
      "outputs": [
        {
          "output_type": "stream",
          "text": [
            "Sample input size:  torch.Size([50, 200])\n",
            "Sample input: \n",
            " tensor([[    0,     0,     0,  ...,     4,  2677,     9],\n",
            "        [    0,     0,     0,  ...,     4,  2066,   133],\n",
            "        [    0,     0,     0,  ...,    16,    34,  2954],\n",
            "        ...,\n",
            "        [    0,     0,     0,  ...,   363,    27,    58],\n",
            "        [    0,     0,     0,  ...,    55,    30, 24845],\n",
            "        [    0,     0,     0,  ...,     3,     1,  6530]])\n",
            "\n",
            "Sample label size:  torch.Size([50])\n",
            "Sample label: \n",
            " tensor([1., 1., 1., 1., 1., 1., 1., 1., 1., 1., 1., 1., 0., 1., 1., 1., 1., 1.,\n",
            "        1., 1., 1., 0., 1., 1., 1., 0., 0., 1., 1., 1., 1., 1., 1., 0., 1., 1.,\n",
            "        1., 1., 1., 1., 1., 1., 1., 1., 0., 1., 1., 1., 1., 1.],\n",
            "       dtype=torch.float64)\n"
          ],
          "name": "stdout"
        }
      ]
    },
    {
      "cell_type": "markdown",
      "metadata": {
        "id": "xqtMR8gyJBH5",
        "colab_type": "text"
      },
      "source": [
        "EVETYTHING UNTIL NEXT TEXT BLOCK WILL PROBABLY BE REMOVED------------"
      ]
    },
    {
      "cell_type": "code",
      "metadata": {
        "id": "uaV-20eRKVaO",
        "colab_type": "code",
        "outputId": "6570b803-622d-4216-e676-5b715a6deca3",
        "colab": {
          "base_uri": "https://localhost:8080/",
          "height": 74
        }
      },
      "source": [
        "from gensim.models import KeyedVectors\n",
        "\n",
        "# Load embeddings from the pre-trained file\n",
        "# The file can be found in Canvas and must be placed in the same directory as the notebook)\n",
        "fastText_embeddings = KeyedVectors.load_word2vec_format('/content/drive/My Drive/Chatbot_shared/wiki.simple.vec')"
      ],
      "execution_count": 0,
      "outputs": [
        {
          "output_type": "stream",
          "text": [
            "/usr/local/lib/python3.6/dist-packages/smart_open/smart_open_lib.py:402: UserWarning: This function is deprecated, use smart_open.open instead. See the migration notes for details: https://github.com/RaRe-Technologies/smart_open/blob/master/README.rst#migrating-to-the-new-open-function\n",
            "  'See the migration notes for details: %s' % _MIGRATION_NOTES_URL\n"
          ],
          "name": "stderr"
        }
      ]
    },
    {
      "cell_type": "code",
      "metadata": {
        "id": "mdJ7VeX6rSWN",
        "colab_type": "code",
        "outputId": "c7e43592-902a-4370-cc49-90ac65a0f5d9",
        "colab": {
          "base_uri": "https://localhost:8080/",
          "height": 246
        }
      },
      "source": [
        "#Creating own embeddinglayer # TEEEEST\n",
        "emb_dim = 300  #Embedding dim\n",
        "matrix_len = len(sorted_words)\n",
        "weights_matrix = np.zeros((matrix_len, 300))\n",
        "words_found = 0\n",
        "\n",
        "for i, word in enumerate(sorted_words):\n",
        "    try: \n",
        "        weights_matrix[i] = fastText_embeddings[word]\n",
        "        words_found += 1\n",
        "    except KeyError:\n",
        "        weights_matrix[i] = np.random.normal(scale=0.6, size=(emb_dim, ))\n",
        "\n",
        "print(weights_matrix.shape)\n",
        "print(len(sorted_words))      "
      ],
      "execution_count": 0,
      "outputs": [
        {
          "output_type": "error",
          "ename": "NameError",
          "evalue": "ignored",
          "traceback": [
            "\u001b[0;31m---------------------------------------------------------------------------\u001b[0m",
            "\u001b[0;31mNameError\u001b[0m                                 Traceback (most recent call last)",
            "\u001b[0;32m<ipython-input-20-8d8017d2b3d9>\u001b[0m in \u001b[0;36m<module>\u001b[0;34m()\u001b[0m\n\u001b[1;32m      6\u001b[0m \u001b[0;32mfor\u001b[0m \u001b[0mi\u001b[0m\u001b[0;34m,\u001b[0m \u001b[0mword\u001b[0m \u001b[0;32min\u001b[0m \u001b[0menumerate\u001b[0m\u001b[0;34m(\u001b[0m\u001b[0msorted_words\u001b[0m\u001b[0;34m)\u001b[0m\u001b[0;34m:\u001b[0m\u001b[0;34m\u001b[0m\u001b[0;34m\u001b[0m\u001b[0m\n\u001b[1;32m      7\u001b[0m     \u001b[0;32mtry\u001b[0m\u001b[0;34m:\u001b[0m\u001b[0;34m\u001b[0m\u001b[0;34m\u001b[0m\u001b[0m\n\u001b[0;32m----> 8\u001b[0;31m         \u001b[0mweights_matrix\u001b[0m\u001b[0;34m[\u001b[0m\u001b[0mi\u001b[0m\u001b[0;34m]\u001b[0m \u001b[0;34m=\u001b[0m \u001b[0mfastText_embeddings\u001b[0m\u001b[0;34m[\u001b[0m\u001b[0mword\u001b[0m\u001b[0;34m]\u001b[0m\u001b[0;34m\u001b[0m\u001b[0;34m\u001b[0m\u001b[0m\n\u001b[0m\u001b[1;32m      9\u001b[0m         \u001b[0mwords_found\u001b[0m \u001b[0;34m+=\u001b[0m \u001b[0;36m1\u001b[0m\u001b[0;34m\u001b[0m\u001b[0;34m\u001b[0m\u001b[0m\n\u001b[1;32m     10\u001b[0m     \u001b[0;32mexcept\u001b[0m \u001b[0mKeyError\u001b[0m\u001b[0;34m:\u001b[0m\u001b[0;34m\u001b[0m\u001b[0;34m\u001b[0m\u001b[0m\n",
            "\u001b[0;31mNameError\u001b[0m: name 'fastText_embeddings' is not defined"
          ]
        }
      ]
    },
    {
      "cell_type": "code",
      "metadata": {
        "id": "0KKBU_J9b4GL",
        "colab_type": "code",
        "outputId": "fe24698f-e97a-4c91-84f8-80b58a3c9435",
        "colab": {
          "base_uri": "https://localhost:8080/",
          "height": 294
        }
      },
      "source": [
        "word='sweden'\n",
        "#print(words[0])\n",
        "test1=fastText_embeddings['sweden']\n",
        "test2=fastText_embeddings['norway']\n",
        "\n",
        "print(len(test1))\n",
        "from scipy import spatial\n",
        "\n",
        "result = 1 - spatial.distance.cosine(test1, test2)\n",
        "\n",
        "print(result)\n",
        "\n",
        "fastText_embeddings.most_similar(positive=['sweden'])\n",
        "\n",
        "print(fastText_embeddings.wv.vectors.shape)\n",
        "\n",
        "weights = torch.FloatTensor(fastText_embeddings.vectors)\n",
        "\n",
        "print(weights)\n"
      ],
      "execution_count": 0,
      "outputs": [
        {
          "output_type": "stream",
          "text": [
            "300\n",
            "0.597154974937439\n",
            "(111051, 300)\n",
            "tensor([[ 0.2892, -0.4608,  0.3514,  ...,  0.1331, -0.2347,  0.0053],\n",
            "        [ 0.0569, -0.0520,  0.2733,  ..., -0.0695, -0.1606, -0.0989],\n",
            "        [ 0.2013,  0.0104,  0.1623,  ..., -0.0931, -0.1408, -0.1326],\n",
            "        ...,\n",
            "        [ 0.2377, -0.0403, -0.0326,  ..., -0.0606,  0.0348, -0.2974],\n",
            "        [ 0.5376, -0.2263,  0.0231,  ...,  0.0800, -0.3782, -0.2765],\n",
            "        [ 0.1598,  0.0028, -0.2026,  ..., -0.0032, -0.1265, -0.1526]])\n"
          ],
          "name": "stdout"
        },
        {
          "output_type": "stream",
          "text": [
            "/usr/local/lib/python3.6/dist-packages/gensim/matutils.py:737: FutureWarning: Conversion of the second argument of issubdtype from `int` to `np.signedinteger` is deprecated. In future, it will be treated as `np.int64 == np.dtype(int).type`.\n",
            "  if np.issubdtype(vec.dtype, np.int):\n",
            "/usr/local/lib/python3.6/dist-packages/ipykernel_launcher.py:15: DeprecationWarning: Call to deprecated `wv` (Attribute will be removed in 4.0.0, use self instead).\n",
            "  from ipykernel import kernelapp as app\n"
          ],
          "name": "stderr"
        }
      ]
    },
    {
      "cell_type": "markdown",
      "metadata": {
        "id": "8lL7hE7jJk0K",
        "colab_type": "text"
      },
      "source": [
        "UNTIL HERE ----------------------------------------"
      ]
    },
    {
      "cell_type": "code",
      "metadata": {
        "id": "EBGMs2sUVvxo",
        "colab_type": "code",
        "outputId": "57cde6ef-3457-44ef-c0e2-83bd5e8fd753",
        "colab": {
          "base_uri": "https://localhost:8080/",
          "height": 35
        }
      },
      "source": [
        "# torch.cuda.is_available() checks and returns a Boolean True if a GPU is available, else it'll return False\n",
        "is_cuda = torch.cuda.is_available()\n",
        "\n",
        "# If we have a GPU available, we'll set our device to GPU. We'll use this device variable later in our code.\n",
        "if is_cuda:\n",
        "    device = torch.device(\"cuda\")\n",
        "else:\n",
        "    device = torch.device(\"cpu\")\n",
        "\n",
        "print(device)"
      ],
      "execution_count": 38,
      "outputs": [
        {
          "output_type": "stream",
          "text": [
            "cuda\n"
          ],
          "name": "stdout"
        }
      ]
    },
    {
      "cell_type": "code",
      "metadata": {
        "id": "wgX8FYVBPaJn",
        "colab_type": "code",
        "colab": {}
      },
      "source": [
        "\n",
        "\n",
        "class SentimentNet(nn.Module):\n",
        "    def __init__(self, vocab_size, output_size, embedding_dim, hidden_dim, n_layers, drop_prob=0.5):\n",
        "        super(SentimentNet, self).__init__()\n",
        "        self.output_size = output_size\n",
        "        self.n_layers = n_layers\n",
        "        self.hidden_dim = hidden_dim\n",
        "        \n",
        "        self.embedding = nn.Embedding(vocab_size, embedding_dim)\n",
        "        self.lstm = nn.LSTM(embedding_dim, hidden_dim, n_layers, dropout=drop_prob, batch_first=True)\n",
        "        self.dropout = nn.Dropout(drop_prob)\n",
        "        self.fc = nn.Linear(hidden_dim, output_size)\n",
        "        self.sigmoid = nn.Sigmoid()\n",
        "        \n",
        "    def forward(self, x, hidden):\n",
        "        batch_size = x.size(0)\n",
        "        x = x.long()\n",
        "        embeds = self.embedding(x)\n",
        "        lstm_out, hidden = self.lstm(embeds, hidden)\n",
        "        lstm_out = lstm_out.contiguous().view(-1, self.hidden_dim)\n",
        "        \n",
        "        out = self.dropout(lstm_out)\n",
        "        out = self.fc(out)\n",
        "        out = self.sigmoid(out)\n",
        "        \n",
        "        out = out.view(batch_size, -1)\n",
        "        out = out[:,-1]\n",
        "        return out, hidden\n",
        "    \n",
        "    def init_hidden(self, batch_size):\n",
        "        weight = next(self.parameters()).data\n",
        "        hidden = (weight.new(self.n_layers, batch_size, self.hidden_dim).zero_().to(device),\n",
        "                      weight.new(self.n_layers, batch_size, self.hidden_dim).zero_().to(device))\n",
        "        return hidden"
      ],
      "execution_count": 0,
      "outputs": []
    },
    {
      "cell_type": "code",
      "metadata": {
        "id": "J89i_NyxhysH",
        "colab_type": "code",
        "colab": {}
      },
      "source": [
        "vocab_size = len(vocab_to_int) + 1\n",
        "output_size = 1\n",
        "embedding_dim = 200\n",
        "hidden_dim = 256\n",
        "n_layers = 2\n",
        "\n",
        "model = SentimentNet(vocab_size, output_size, embedding_dim, hidden_dim, n_layers)\n",
        "model.to(device)\n",
        "\n",
        "lr=0.005\n",
        "criterion = nn.BCELoss()\n",
        "optimizer = torch.optim.Adam(model.parameters(), lr=lr)"
      ],
      "execution_count": 0,
      "outputs": []
    },
    {
      "cell_type": "code",
      "metadata": {
        "id": "szZWJ3I-UzV4",
        "colab_type": "code",
        "outputId": "5f702262-b95d-42f5-a146-597f9634b4f2",
        "colab": {
          "base_uri": "https://localhost:8080/",
          "height": 246
        }
      },
      "source": [
        "from tqdm import tqdm\n",
        "epochs = 10\n",
        "counter = 0\n",
        "clip = 5\n",
        "valid_loss_min = np.Inf\n",
        "# Create a list to keep track of how the loss changes\n",
        "train_losses = []\n",
        "validate_losses = []\n",
        "\n",
        "model.train()\n",
        "for i in (range(epochs)):\n",
        "    h = model.init_hidden(batch_size)\n",
        "\n",
        "    # A variable for containing the sum of all batch losses for this epoch\n",
        "    train_loss = 0\n",
        "    validate_loss = 0\n",
        "\n",
        "    \n",
        "    #Train step\n",
        "    counter = 0\n",
        "    for inputs, labels in (train_loader):\n",
        "        counter += 1\n",
        "        h = tuple([e.data for e in h])\n",
        "        inputs, labels = inputs.to(device), labels.to(device)\n",
        "        model.zero_grad()\n",
        "        output, h = model(inputs, h)\n",
        "        loss = criterion(output.squeeze(), labels.float())\n",
        "        loss.backward()\n",
        "        nn.utils.clip_grad_norm_(model.parameters(), clip)\n",
        "        optimizer.step()\n",
        "        train_loss += loss.item()\n",
        "        print(\n",
        "            '\\rEpoch {} [{}/{}] - Loss: {}'.format(\n",
        "                i+1, counter, len(train_loader), loss\n",
        "            ),\n",
        "            end=''\n",
        "        )\n",
        "    print('\\n')\n",
        "\n",
        "\n",
        "    #Validation Step\n",
        "    counter = 0\n",
        "    val_h = model.init_hidden(batch_size)\n",
        "    val_losses = []\n",
        "    model.eval()\n",
        "    for inp, lab in valid_loader:\n",
        "        counter += 1\n",
        "        val_h = tuple([each.data for each in val_h])\n",
        "        inp, lab = inp.to(device), lab.to(device)\n",
        "        out, val_h = model(inp, val_h)\n",
        "        val_loss = criterion(out.squeeze(), lab.float())\n",
        "        val_losses.append(val_loss.item())\n",
        "        validate_loss += val_loss.item()\n",
        "        print(\n",
        "            '\\rValidation of Epoch {} [{}/{}] - Loss: {}'.format(\n",
        "                i+1, counter, len(valid_loader), val_loss\n",
        "            ),\n",
        "            end=''\n",
        "        )\n",
        "    print('\\n')\n",
        "\n",
        "    #Append the epoch loss to the list of losses\n",
        "    train_losses.append(train_loss/len(train_loader))\n",
        "    validate_losses.append(validate_loss/len(valid_loader))\n",
        "        \n",
        "    model.train()\n",
        "    if np.mean(val_losses) <= valid_loss_min:\n",
        "        torch.save(model.state_dict(), './state_dict.pt')\n",
        "        print('Validation loss decreased ({:.6f} --> {:.6f}).  Saving model ...\\n'.format(valid_loss_min,np.mean(val_losses)))\n",
        "        valid_loss_min = np.mean(val_losses)"
      ],
      "execution_count": 37,
      "outputs": [
        {
          "output_type": "error",
          "ename": "NameError",
          "evalue": "ignored",
          "traceback": [
            "\u001b[0;31m---------------------------------------------------------------------------\u001b[0m",
            "\u001b[0;31mNameError\u001b[0m                                 Traceback (most recent call last)",
            "\u001b[0;32m<ipython-input-37-82df327ca5e8>\u001b[0m in \u001b[0;36m<module>\u001b[0;34m()\u001b[0m\n\u001b[1;32m     10\u001b[0m \u001b[0mmodel\u001b[0m\u001b[0;34m.\u001b[0m\u001b[0mtrain\u001b[0m\u001b[0;34m(\u001b[0m\u001b[0;34m)\u001b[0m\u001b[0;34m\u001b[0m\u001b[0;34m\u001b[0m\u001b[0m\n\u001b[1;32m     11\u001b[0m \u001b[0;32mfor\u001b[0m \u001b[0mi\u001b[0m \u001b[0;32min\u001b[0m \u001b[0;34m(\u001b[0m\u001b[0mrange\u001b[0m\u001b[0;34m(\u001b[0m\u001b[0mepochs\u001b[0m\u001b[0;34m)\u001b[0m\u001b[0;34m)\u001b[0m\u001b[0;34m:\u001b[0m\u001b[0;34m\u001b[0m\u001b[0;34m\u001b[0m\u001b[0m\n\u001b[0;32m---> 12\u001b[0;31m     \u001b[0mh\u001b[0m \u001b[0;34m=\u001b[0m \u001b[0mmodel\u001b[0m\u001b[0;34m.\u001b[0m\u001b[0minit_hidden\u001b[0m\u001b[0;34m(\u001b[0m\u001b[0mbatch_size\u001b[0m\u001b[0;34m)\u001b[0m\u001b[0;34m\u001b[0m\u001b[0;34m\u001b[0m\u001b[0m\n\u001b[0m\u001b[1;32m     13\u001b[0m \u001b[0;34m\u001b[0m\u001b[0m\n\u001b[1;32m     14\u001b[0m     \u001b[0;31m# A variable for containing the sum of all batch losses for this epoch\u001b[0m\u001b[0;34m\u001b[0m\u001b[0;34m\u001b[0m\u001b[0;34m\u001b[0m\u001b[0m\n",
            "\u001b[0;31mNameError\u001b[0m: name 'batch_size' is not defined"
          ]
        }
      ]
    },
    {
      "cell_type": "code",
      "metadata": {
        "id": "3NELl8_3kZDj",
        "colab_type": "code",
        "outputId": "ba6cdb0b-3fc7-4256-8dad-0773b26c2b59",
        "colab": {
          "base_uri": "https://localhost:8080/",
          "height": 54
        }
      },
      "source": [
        "# Loading the best model\n",
        "model.load_state_dict(torch.load('./state_dict.pt'))\n",
        "\n",
        "test_losses = []\n",
        "num_correct = 0\n",
        "h = model.init_hidden(batch_size)\n",
        "\n",
        "model.eval()\n",
        "for inputs, labels in test_loader:\n",
        "    h = tuple([each.data for each in h])\n",
        "    inputs, labels = inputs.to(device), labels.to(device)\n",
        "    output, h = model(inputs, h)\n",
        "    test_loss = criterion(output.squeeze(), labels.float())\n",
        "    test_losses.append(test_loss.item())\n",
        "    pred = torch.round(output.squeeze())  # Rounds the output to 0/1\n",
        "    correct_tensor = pred.eq(labels.float().view_as(pred))\n",
        "    correct = np.squeeze(correct_tensor.cpu().numpy())\n",
        "    num_correct += np.sum(correct)\n",
        "\n",
        "print(\"Test loss: {:.3f}\".format(np.mean(test_losses)))\n",
        "test_acc = num_correct/len(test_loader.dataset)\n",
        "print(\"Test accuracy: {:.3f}%\".format(test_acc*100))"
      ],
      "execution_count": 38,
      "outputs": [
        {
          "output_type": "stream",
          "text": [
            "Test loss: 0.170\n",
            "Test accuracy: 93.752%\n"
          ],
          "name": "stdout"
        }
      ]
    },
    {
      "cell_type": "code",
      "metadata": {
        "id": "AuzwOcaCl5Jo",
        "colab_type": "code",
        "outputId": "b67ae4fa-de01-484a-cc60-c59e180d26c0",
        "colab": {
          "base_uri": "https://localhost:8080/",
          "height": 316
        }
      },
      "source": [
        "# Plot the mean training and validation loss per epoch\n",
        "\n",
        "print(\"Results\")\n",
        "\n",
        "line1 = plt.plot(range(1,epochs+1),train_losses,label='Traning Losses')\n",
        "line2 = plt.plot(range(1,epochs+1),validate_losses,'r',label='Validation Losses')\n",
        "plt.xlabel('Epochs')\n",
        "plt.ylabel('Mean Loss')\n",
        "plt.legend()\n",
        "plt.show()\n",
        "\n",
        "len(val_losses)"
      ],
      "execution_count": 39,
      "outputs": [
        {
          "output_type": "stream",
          "text": [
            "Results\n"
          ],
          "name": "stdout"
        },
        {
          "output_type": "display_data",
          "data": {
            "image/png": "[encoded data removed]",
            "text/plain": [
              "<Figure size 432x288 with 1 Axes>"
            ]
          },
          "metadata": {
            "tags": []
          }
        },
        {
          "output_type": "execute_result",
          "data": {
            "text/plain": [
              "722"
            ]
          },
          "metadata": {
            "tags": []
          },
          "execution_count": 39
        }
      ]
    },
    {
      "cell_type": "code",
      "metadata": {
        "id": "-ESLpq0iKD1h",
        "colab_type": "code",
        "outputId": "c44d9f0c-20ef-4920-ad46-76f73d80342b",
        "colab": {
          "base_uri": "https://localhost:8080/",
          "height": 54
        }
      },
      "source": [
        "## THIS IS FOR TESTING YOUR OWN SENTENCES. \n",
        "\n",
        "# Loading the best model\n",
        "model.load_state_dict(torch.load('./state_dict.pt'))\n",
        "\n",
        "\n",
        "test_input =[]\n",
        "test_input.append('i think this model was good to use')\n",
        "test_int = []\n",
        "#for test_temp in test_input:\n",
        "#    r = [vocab_to_int[w] for w in test_temp.split()]\n",
        "#    test_int.append(r)\n",
        "#print (test_int[0:3])\n",
        "\n",
        "\n",
        "test_int = []\n",
        "for test_temp in test_input:\n",
        "  r=[]\n",
        "  for w in test_temp.split():\n",
        "    try:\n",
        "      r.append(vocab_to_int[w])\n",
        "    except:\n",
        "      continue\n",
        "  test_int.append(r)\n",
        "\n",
        "print (test_int[0:3])\n",
        "\n",
        "h = model.init_hidden(1)\n",
        "\n",
        "features = np.array(pad_features(test_int,200))\n",
        "\n",
        "features = torch.from_numpy(features)\n",
        "\n",
        "model.eval()\n",
        "\n",
        "h = tuple([each.data for each in h])\n",
        "inputs = features.to(device)\n",
        "output, h = model(inputs, h)\n",
        "\n",
        "print(output)"
      ],
      "execution_count": 65,
      "outputs": [
        {
          "output_type": "stream",
          "text": [
            "[[8, 124, 11, 1331, 23, 52, 3, 97]]\n",
            "tensor(0.9413, device='cuda:0', grad_fn=<SelectBackward>)\n"
          ],
          "name": "stdout"
        }
      ]
    },
    {
      "cell_type": "code",
      "metadata": {
        "id": "rbkMx3m0VRiy",
        "colab_type": "code",
        "colab": {}
      },
      "source": [
        ""
      ],
      "execution_count": 0,
      "outputs": []
    }
  ]
}