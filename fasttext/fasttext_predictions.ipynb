{
 "cells": [
  {
   "cell_type": "code",
   "execution_count": 1,
   "metadata": {
    "ExecuteTime": {
     "end_time": "2019-12-10T07:27:57.140615Z",
     "start_time": "2019-12-10T07:27:56.392679Z"
    }
   },
   "outputs": [],
   "source": [
    "import fasttext"
   ]
  },
  {
   "cell_type": "code",
   "execution_count": 131,
   "metadata": {
    "ExecuteTime": {
     "end_time": "2019-12-10T08:32:07.252935Z",
     "start_time": "2019-12-10T08:31:52.904479Z"
    }
   },
   "outputs": [],
   "source": [
    "# Skipgram model :\n",
    "model = fasttext.train_supervised(input=\"data.train\", epoch=40, lr=1, wordNgrams=3)"
   ]
  },
  {
   "cell_type": "code",
   "execution_count": 154,
   "metadata": {
    "ExecuteTime": {
     "end_time": "2019-12-10T08:37:40.202848Z",
     "start_time": "2019-12-10T08:37:40.194748Z"
    }
   },
   "outputs": [],
   "source": [
    "def predict(text):\n",
    "    a = model.predict(text)\n",
    "    label, confidence = (\"nonsense\", a[1][0]) if a[1][0] < 0.6 else (a[0][0], a[1][0])\n",
    "    return (label, confidence)"
   ]
  },
  {
   "cell_type": "code",
   "execution_count": 150,
   "metadata": {
    "ExecuteTime": {
     "end_time": "2019-12-10T08:37:22.097641Z",
     "start_time": "2019-12-10T08:37:22.090232Z"
    }
   },
   "outputs": [
    {
     "data": {
      "text/plain": [
       "('__label__review', 0.9435538649559021)"
      ]
     },
     "execution_count": 150,
     "metadata": {},
     "output_type": "execute_result"
    }
   ],
   "source": [
    "predict(\"I want to leave a review\")"
   ]
  },
  {
   "cell_type": "code",
   "execution_count": 151,
   "metadata": {
    "ExecuteTime": {
     "end_time": "2019-12-10T08:37:26.375529Z",
     "start_time": "2019-12-10T08:37:26.367550Z"
    }
   },
   "outputs": [
    {
     "data": {
      "text/plain": [
       "('__label__hi', 0.9681543111801147)"
      ]
     },
     "execution_count": 151,
     "metadata": {},
     "output_type": "execute_result"
    }
   ],
   "source": [
    "predict(\"hello!\")"
   ]
  },
  {
   "cell_type": "code",
   "execution_count": 152,
   "metadata": {
    "ExecuteTime": {
     "end_time": "2019-12-10T08:37:28.536291Z",
     "start_time": "2019-12-10T08:37:28.529281Z"
    }
   },
   "outputs": [
    {
     "data": {
      "text/plain": [
       "('nonsense', 0.4363502860069275)"
      ]
     },
     "execution_count": 152,
     "metadata": {},
     "output_type": "execute_result"
    }
   ],
   "source": [
    "predict(\"Im I a robot?\")"
   ]
  },
  {
   "cell_type": "code",
   "execution_count": 153,
   "metadata": {
    "ExecuteTime": {
     "end_time": "2019-12-10T08:37:31.927658Z",
     "start_time": "2019-12-10T08:37:31.919680Z"
    }
   },
   "outputs": [
    {
     "data": {
      "text/plain": [
       "(('__label__info',), array([0.92559898]))"
      ]
     },
     "execution_count": 153,
     "metadata": {},
     "output_type": "execute_result"
    }
   ],
   "source": [
    "model.predict(\"Give me some information about a game\")"
   ]
  },
  {
   "cell_type": "code",
   "execution_count": 146,
   "metadata": {
    "ExecuteTime": {
     "end_time": "2019-12-10T08:34:45.857624Z",
     "start_time": "2019-12-10T08:34:45.850639Z"
    }
   },
   "outputs": [
    {
     "name": "stdout",
     "output_type": "stream",
     "text": [
      "Precision: 70.0%\n"
     ]
    }
   ],
   "source": [
    "test = model.test(\"data.valid\")\n",
    "print(\"Precision: \" + str(test[1]*100) + \"%\")"
   ]
  },
  {
   "cell_type": "code",
   "execution_count": null,
   "metadata": {},
   "outputs": [],
   "source": []
  }
 ],
 "metadata": {
  "kernelspec": {
   "display_name": "Python 3",
   "language": "python",
   "name": "python3"
  },
  "language_info": {
   "codemirror_mode": {
    "name": "ipython",
    "version": 3
   },
   "file_extension": ".py",
   "mimetype": "text/x-python",
   "name": "python",
   "nbconvert_exporter": "python",
   "pygments_lexer": "ipython3",
   "version": "3.7.3"
  }
 },
 "nbformat": 4,
 "nbformat_minor": 2
}
